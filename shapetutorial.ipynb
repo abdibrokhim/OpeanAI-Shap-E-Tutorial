{
  "nbformat": 4,
  "nbformat_minor": 0,
  "metadata": {
    "colab": {
      "provenance": [],
      "gpuType": "T4",
      "authorship_tag": "ABX9TyMFj72C+BpyS0fiF01tkZP+",
      "include_colab_link": true
    },
    "kernelspec": {
      "name": "python3",
      "display_name": "Python 3"
    },
    "language_info": {
      "name": "python"
    },
    "accelerator": "GPU",
    "gpuClass": "standard",
    "widgets": {
      "application/vnd.jupyter.widget-state+json": {
        "cf8f098faef84d2686a9cd3625032aa8": {
          "model_module": "@jupyter-widgets/controls",
          "model_name": "HBoxModel",
          "model_module_version": "1.5.0",
          "state": {
            "_dom_classes": [],
            "_model_module": "@jupyter-widgets/controls",
            "_model_module_version": "1.5.0",
            "_model_name": "HBoxModel",
            "_view_count": null,
            "_view_module": "@jupyter-widgets/controls",
            "_view_module_version": "1.5.0",
            "_view_name": "HBoxView",
            "box_style": "",
            "children": [
              "IPY_MODEL_74c3aafed6a84389a6dc9978a1f44d12",
              "IPY_MODEL_e3864b0615ed424eb4fcba7fadad574d",
              "IPY_MODEL_52ba486ebe3048cca32b0b871dfc1583"
            ],
            "layout": "IPY_MODEL_22bc09a3c0d4468581c0628a9eef1d0a"
          }
        },
        "74c3aafed6a84389a6dc9978a1f44d12": {
          "model_module": "@jupyter-widgets/controls",
          "model_name": "HTMLModel",
          "model_module_version": "1.5.0",
          "state": {
            "_dom_classes": [],
            "_model_module": "@jupyter-widgets/controls",
            "_model_module_version": "1.5.0",
            "_model_name": "HTMLModel",
            "_view_count": null,
            "_view_module": "@jupyter-widgets/controls",
            "_view_module_version": "1.5.0",
            "_view_name": "HTMLView",
            "description": "",
            "description_tooltip": null,
            "layout": "IPY_MODEL_00ec39e0755d4557a9b1637c87edab54",
            "placeholder": "​",
            "style": "IPY_MODEL_96046adddb9546faa858b0ad13897846",
            "value": "100%"
          }
        },
        "e3864b0615ed424eb4fcba7fadad574d": {
          "model_module": "@jupyter-widgets/controls",
          "model_name": "FloatProgressModel",
          "model_module_version": "1.5.0",
          "state": {
            "_dom_classes": [],
            "_model_module": "@jupyter-widgets/controls",
            "_model_module_version": "1.5.0",
            "_model_name": "FloatProgressModel",
            "_view_count": null,
            "_view_module": "@jupyter-widgets/controls",
            "_view_module_version": "1.5.0",
            "_view_name": "ProgressView",
            "bar_style": "success",
            "description": "",
            "description_tooltip": null,
            "layout": "IPY_MODEL_1aa3a9909829499f9deb6d4d4b4d18b8",
            "max": 1776048343,
            "min": 0,
            "orientation": "horizontal",
            "style": "IPY_MODEL_34420c7358f64bb28e8e84915f2250d5",
            "value": 1776048343
          }
        },
        "52ba486ebe3048cca32b0b871dfc1583": {
          "model_module": "@jupyter-widgets/controls",
          "model_name": "HTMLModel",
          "model_module_version": "1.5.0",
          "state": {
            "_dom_classes": [],
            "_model_module": "@jupyter-widgets/controls",
            "_model_module_version": "1.5.0",
            "_model_name": "HTMLModel",
            "_view_count": null,
            "_view_module": "@jupyter-widgets/controls",
            "_view_module_version": "1.5.0",
            "_view_name": "HTMLView",
            "description": "",
            "description_tooltip": null,
            "layout": "IPY_MODEL_dda31e650af7477089ede3d9fe6ad2d2",
            "placeholder": "​",
            "style": "IPY_MODEL_70fc198223674dea9923e79dd9998678",
            "value": " 1.78G/1.78G [00:45&lt;00:00, 36.5MiB/s]"
          }
        },
        "22bc09a3c0d4468581c0628a9eef1d0a": {
          "model_module": "@jupyter-widgets/base",
          "model_name": "LayoutModel",
          "model_module_version": "1.2.0",
          "state": {
            "_model_module": "@jupyter-widgets/base",
            "_model_module_version": "1.2.0",
            "_model_name": "LayoutModel",
            "_view_count": null,
            "_view_module": "@jupyter-widgets/base",
            "_view_module_version": "1.2.0",
            "_view_name": "LayoutView",
            "align_content": null,
            "align_items": null,
            "align_self": null,
            "border": null,
            "bottom": null,
            "display": null,
            "flex": null,
            "flex_flow": null,
            "grid_area": null,
            "grid_auto_columns": null,
            "grid_auto_flow": null,
            "grid_auto_rows": null,
            "grid_column": null,
            "grid_gap": null,
            "grid_row": null,
            "grid_template_areas": null,
            "grid_template_columns": null,
            "grid_template_rows": null,
            "height": null,
            "justify_content": null,
            "justify_items": null,
            "left": null,
            "margin": null,
            "max_height": null,
            "max_width": null,
            "min_height": null,
            "min_width": null,
            "object_fit": null,
            "object_position": null,
            "order": null,
            "overflow": null,
            "overflow_x": null,
            "overflow_y": null,
            "padding": null,
            "right": null,
            "top": null,
            "visibility": null,
            "width": null
          }
        },
        "00ec39e0755d4557a9b1637c87edab54": {
          "model_module": "@jupyter-widgets/base",
          "model_name": "LayoutModel",
          "model_module_version": "1.2.0",
          "state": {
            "_model_module": "@jupyter-widgets/base",
            "_model_module_version": "1.2.0",
            "_model_name": "LayoutModel",
            "_view_count": null,
            "_view_module": "@jupyter-widgets/base",
            "_view_module_version": "1.2.0",
            "_view_name": "LayoutView",
            "align_content": null,
            "align_items": null,
            "align_self": null,
            "border": null,
            "bottom": null,
            "display": null,
            "flex": null,
            "flex_flow": null,
            "grid_area": null,
            "grid_auto_columns": null,
            "grid_auto_flow": null,
            "grid_auto_rows": null,
            "grid_column": null,
            "grid_gap": null,
            "grid_row": null,
            "grid_template_areas": null,
            "grid_template_columns": null,
            "grid_template_rows": null,
            "height": null,
            "justify_content": null,
            "justify_items": null,
            "left": null,
            "margin": null,
            "max_height": null,
            "max_width": null,
            "min_height": null,
            "min_width": null,
            "object_fit": null,
            "object_position": null,
            "order": null,
            "overflow": null,
            "overflow_x": null,
            "overflow_y": null,
            "padding": null,
            "right": null,
            "top": null,
            "visibility": null,
            "width": null
          }
        },
        "96046adddb9546faa858b0ad13897846": {
          "model_module": "@jupyter-widgets/controls",
          "model_name": "DescriptionStyleModel",
          "model_module_version": "1.5.0",
          "state": {
            "_model_module": "@jupyter-widgets/controls",
            "_model_module_version": "1.5.0",
            "_model_name": "DescriptionStyleModel",
            "_view_count": null,
            "_view_module": "@jupyter-widgets/base",
            "_view_module_version": "1.2.0",
            "_view_name": "StyleView",
            "description_width": ""
          }
        },
        "1aa3a9909829499f9deb6d4d4b4d18b8": {
          "model_module": "@jupyter-widgets/base",
          "model_name": "LayoutModel",
          "model_module_version": "1.2.0",
          "state": {
            "_model_module": "@jupyter-widgets/base",
            "_model_module_version": "1.2.0",
            "_model_name": "LayoutModel",
            "_view_count": null,
            "_view_module": "@jupyter-widgets/base",
            "_view_module_version": "1.2.0",
            "_view_name": "LayoutView",
            "align_content": null,
            "align_items": null,
            "align_self": null,
            "border": null,
            "bottom": null,
            "display": null,
            "flex": null,
            "flex_flow": null,
            "grid_area": null,
            "grid_auto_columns": null,
            "grid_auto_flow": null,
            "grid_auto_rows": null,
            "grid_column": null,
            "grid_gap": null,
            "grid_row": null,
            "grid_template_areas": null,
            "grid_template_columns": null,
            "grid_template_rows": null,
            "height": null,
            "justify_content": null,
            "justify_items": null,
            "left": null,
            "margin": null,
            "max_height": null,
            "max_width": null,
            "min_height": null,
            "min_width": null,
            "object_fit": null,
            "object_position": null,
            "order": null,
            "overflow": null,
            "overflow_x": null,
            "overflow_y": null,
            "padding": null,
            "right": null,
            "top": null,
            "visibility": null,
            "width": null
          }
        },
        "34420c7358f64bb28e8e84915f2250d5": {
          "model_module": "@jupyter-widgets/controls",
          "model_name": "ProgressStyleModel",
          "model_module_version": "1.5.0",
          "state": {
            "_model_module": "@jupyter-widgets/controls",
            "_model_module_version": "1.5.0",
            "_model_name": "ProgressStyleModel",
            "_view_count": null,
            "_view_module": "@jupyter-widgets/base",
            "_view_module_version": "1.2.0",
            "_view_name": "StyleView",
            "bar_color": null,
            "description_width": ""
          }
        },
        "dda31e650af7477089ede3d9fe6ad2d2": {
          "model_module": "@jupyter-widgets/base",
          "model_name": "LayoutModel",
          "model_module_version": "1.2.0",
          "state": {
            "_model_module": "@jupyter-widgets/base",
            "_model_module_version": "1.2.0",
            "_model_name": "LayoutModel",
            "_view_count": null,
            "_view_module": "@jupyter-widgets/base",
            "_view_module_version": "1.2.0",
            "_view_name": "LayoutView",
            "align_content": null,
            "align_items": null,
            "align_self": null,
            "border": null,
            "bottom": null,
            "display": null,
            "flex": null,
            "flex_flow": null,
            "grid_area": null,
            "grid_auto_columns": null,
            "grid_auto_flow": null,
            "grid_auto_rows": null,
            "grid_column": null,
            "grid_gap": null,
            "grid_row": null,
            "grid_template_areas": null,
            "grid_template_columns": null,
            "grid_template_rows": null,
            "height": null,
            "justify_content": null,
            "justify_items": null,
            "left": null,
            "margin": null,
            "max_height": null,
            "max_width": null,
            "min_height": null,
            "min_width": null,
            "object_fit": null,
            "object_position": null,
            "order": null,
            "overflow": null,
            "overflow_x": null,
            "overflow_y": null,
            "padding": null,
            "right": null,
            "top": null,
            "visibility": null,
            "width": null
          }
        },
        "70fc198223674dea9923e79dd9998678": {
          "model_module": "@jupyter-widgets/controls",
          "model_name": "DescriptionStyleModel",
          "model_module_version": "1.5.0",
          "state": {
            "_model_module": "@jupyter-widgets/controls",
            "_model_module_version": "1.5.0",
            "_model_name": "DescriptionStyleModel",
            "_view_count": null,
            "_view_module": "@jupyter-widgets/base",
            "_view_module_version": "1.2.0",
            "_view_name": "StyleView",
            "description_width": ""
          }
        },
        "8d69af1594fb48a3b09ecc0e81fa3ed9": {
          "model_module": "@jupyter-widgets/controls",
          "model_name": "HBoxModel",
          "model_module_version": "1.5.0",
          "state": {
            "_dom_classes": [],
            "_model_module": "@jupyter-widgets/controls",
            "_model_module_version": "1.5.0",
            "_model_name": "HBoxModel",
            "_view_count": null,
            "_view_module": "@jupyter-widgets/controls",
            "_view_module_version": "1.5.0",
            "_view_name": "HBoxView",
            "box_style": "",
            "children": [
              "IPY_MODEL_88373b1d172443d5ae07e1f1db738441",
              "IPY_MODEL_6bc7ac40aa1b40aeaf0360bfe0e60403",
              "IPY_MODEL_a0dbce69fa7946e4ac9c43448c7e8d47"
            ],
            "layout": "IPY_MODEL_14cce4ba18014ab2a5b0df9668fa6753"
          }
        },
        "88373b1d172443d5ae07e1f1db738441": {
          "model_module": "@jupyter-widgets/controls",
          "model_name": "HTMLModel",
          "model_module_version": "1.5.0",
          "state": {
            "_dom_classes": [],
            "_model_module": "@jupyter-widgets/controls",
            "_model_module_version": "1.5.0",
            "_model_name": "HTMLModel",
            "_view_count": null,
            "_view_module": "@jupyter-widgets/controls",
            "_view_module_version": "1.5.0",
            "_view_name": "HTMLView",
            "description": "",
            "description_tooltip": null,
            "layout": "IPY_MODEL_3dc0d406d13046de8148a9ace53eee95",
            "placeholder": "​",
            "style": "IPY_MODEL_471f6ca2471b498a88dda6629030cbb6",
            "value": "100%"
          }
        },
        "6bc7ac40aa1b40aeaf0360bfe0e60403": {
          "model_module": "@jupyter-widgets/controls",
          "model_name": "FloatProgressModel",
          "model_module_version": "1.5.0",
          "state": {
            "_dom_classes": [],
            "_model_module": "@jupyter-widgets/controls",
            "_model_module_version": "1.5.0",
            "_model_name": "FloatProgressModel",
            "_view_count": null,
            "_view_module": "@jupyter-widgets/controls",
            "_view_module_version": "1.5.0",
            "_view_name": "ProgressView",
            "bar_style": "success",
            "description": "",
            "description_tooltip": null,
            "layout": "IPY_MODEL_0cb36fa976404d9a98e30b8e15350f32",
            "max": 1262868003,
            "min": 0,
            "orientation": "horizontal",
            "style": "IPY_MODEL_bc5274ca0e2a46f3b635d3ab70087290",
            "value": 1262868003
          }
        },
        "a0dbce69fa7946e4ac9c43448c7e8d47": {
          "model_module": "@jupyter-widgets/controls",
          "model_name": "HTMLModel",
          "model_module_version": "1.5.0",
          "state": {
            "_dom_classes": [],
            "_model_module": "@jupyter-widgets/controls",
            "_model_module_version": "1.5.0",
            "_model_name": "HTMLModel",
            "_view_count": null,
            "_view_module": "@jupyter-widgets/controls",
            "_view_module_version": "1.5.0",
            "_view_name": "HTMLView",
            "description": "",
            "description_tooltip": null,
            "layout": "IPY_MODEL_6d714f1cb07d4674af4d19d6ca48a218",
            "placeholder": "​",
            "style": "IPY_MODEL_b57dc4b9f6c5463ab72b76de7db5d5f5",
            "value": " 1.26G/1.26G [00:30&lt;00:00, 54.1MiB/s]"
          }
        },
        "14cce4ba18014ab2a5b0df9668fa6753": {
          "model_module": "@jupyter-widgets/base",
          "model_name": "LayoutModel",
          "model_module_version": "1.2.0",
          "state": {
            "_model_module": "@jupyter-widgets/base",
            "_model_module_version": "1.2.0",
            "_model_name": "LayoutModel",
            "_view_count": null,
            "_view_module": "@jupyter-widgets/base",
            "_view_module_version": "1.2.0",
            "_view_name": "LayoutView",
            "align_content": null,
            "align_items": null,
            "align_self": null,
            "border": null,
            "bottom": null,
            "display": null,
            "flex": null,
            "flex_flow": null,
            "grid_area": null,
            "grid_auto_columns": null,
            "grid_auto_flow": null,
            "grid_auto_rows": null,
            "grid_column": null,
            "grid_gap": null,
            "grid_row": null,
            "grid_template_areas": null,
            "grid_template_columns": null,
            "grid_template_rows": null,
            "height": null,
            "justify_content": null,
            "justify_items": null,
            "left": null,
            "margin": null,
            "max_height": null,
            "max_width": null,
            "min_height": null,
            "min_width": null,
            "object_fit": null,
            "object_position": null,
            "order": null,
            "overflow": null,
            "overflow_x": null,
            "overflow_y": null,
            "padding": null,
            "right": null,
            "top": null,
            "visibility": null,
            "width": null
          }
        },
        "3dc0d406d13046de8148a9ace53eee95": {
          "model_module": "@jupyter-widgets/base",
          "model_name": "LayoutModel",
          "model_module_version": "1.2.0",
          "state": {
            "_model_module": "@jupyter-widgets/base",
            "_model_module_version": "1.2.0",
            "_model_name": "LayoutModel",
            "_view_count": null,
            "_view_module": "@jupyter-widgets/base",
            "_view_module_version": "1.2.0",
            "_view_name": "LayoutView",
            "align_content": null,
            "align_items": null,
            "align_self": null,
            "border": null,
            "bottom": null,
            "display": null,
            "flex": null,
            "flex_flow": null,
            "grid_area": null,
            "grid_auto_columns": null,
            "grid_auto_flow": null,
            "grid_auto_rows": null,
            "grid_column": null,
            "grid_gap": null,
            "grid_row": null,
            "grid_template_areas": null,
            "grid_template_columns": null,
            "grid_template_rows": null,
            "height": null,
            "justify_content": null,
            "justify_items": null,
            "left": null,
            "margin": null,
            "max_height": null,
            "max_width": null,
            "min_height": null,
            "min_width": null,
            "object_fit": null,
            "object_position": null,
            "order": null,
            "overflow": null,
            "overflow_x": null,
            "overflow_y": null,
            "padding": null,
            "right": null,
            "top": null,
            "visibility": null,
            "width": null
          }
        },
        "471f6ca2471b498a88dda6629030cbb6": {
          "model_module": "@jupyter-widgets/controls",
          "model_name": "DescriptionStyleModel",
          "model_module_version": "1.5.0",
          "state": {
            "_model_module": "@jupyter-widgets/controls",
            "_model_module_version": "1.5.0",
            "_model_name": "DescriptionStyleModel",
            "_view_count": null,
            "_view_module": "@jupyter-widgets/base",
            "_view_module_version": "1.2.0",
            "_view_name": "StyleView",
            "description_width": ""
          }
        },
        "0cb36fa976404d9a98e30b8e15350f32": {
          "model_module": "@jupyter-widgets/base",
          "model_name": "LayoutModel",
          "model_module_version": "1.2.0",
          "state": {
            "_model_module": "@jupyter-widgets/base",
            "_model_module_version": "1.2.0",
            "_model_name": "LayoutModel",
            "_view_count": null,
            "_view_module": "@jupyter-widgets/base",
            "_view_module_version": "1.2.0",
            "_view_name": "LayoutView",
            "align_content": null,
            "align_items": null,
            "align_self": null,
            "border": null,
            "bottom": null,
            "display": null,
            "flex": null,
            "flex_flow": null,
            "grid_area": null,
            "grid_auto_columns": null,
            "grid_auto_flow": null,
            "grid_auto_rows": null,
            "grid_column": null,
            "grid_gap": null,
            "grid_row": null,
            "grid_template_areas": null,
            "grid_template_columns": null,
            "grid_template_rows": null,
            "height": null,
            "justify_content": null,
            "justify_items": null,
            "left": null,
            "margin": null,
            "max_height": null,
            "max_width": null,
            "min_height": null,
            "min_width": null,
            "object_fit": null,
            "object_position": null,
            "order": null,
            "overflow": null,
            "overflow_x": null,
            "overflow_y": null,
            "padding": null,
            "right": null,
            "top": null,
            "visibility": null,
            "width": null
          }
        },
        "bc5274ca0e2a46f3b635d3ab70087290": {
          "model_module": "@jupyter-widgets/controls",
          "model_name": "ProgressStyleModel",
          "model_module_version": "1.5.0",
          "state": {
            "_model_module": "@jupyter-widgets/controls",
            "_model_module_version": "1.5.0",
            "_model_name": "ProgressStyleModel",
            "_view_count": null,
            "_view_module": "@jupyter-widgets/base",
            "_view_module_version": "1.2.0",
            "_view_name": "StyleView",
            "bar_color": null,
            "description_width": ""
          }
        },
        "6d714f1cb07d4674af4d19d6ca48a218": {
          "model_module": "@jupyter-widgets/base",
          "model_name": "LayoutModel",
          "model_module_version": "1.2.0",
          "state": {
            "_model_module": "@jupyter-widgets/base",
            "_model_module_version": "1.2.0",
            "_model_name": "LayoutModel",
            "_view_count": null,
            "_view_module": "@jupyter-widgets/base",
            "_view_module_version": "1.2.0",
            "_view_name": "LayoutView",
            "align_content": null,
            "align_items": null,
            "align_self": null,
            "border": null,
            "bottom": null,
            "display": null,
            "flex": null,
            "flex_flow": null,
            "grid_area": null,
            "grid_auto_columns": null,
            "grid_auto_flow": null,
            "grid_auto_rows": null,
            "grid_column": null,
            "grid_gap": null,
            "grid_row": null,
            "grid_template_areas": null,
            "grid_template_columns": null,
            "grid_template_rows": null,
            "height": null,
            "justify_content": null,
            "justify_items": null,
            "left": null,
            "margin": null,
            "max_height": null,
            "max_width": null,
            "min_height": null,
            "min_width": null,
            "object_fit": null,
            "object_position": null,
            "order": null,
            "overflow": null,
            "overflow_x": null,
            "overflow_y": null,
            "padding": null,
            "right": null,
            "top": null,
            "visibility": null,
            "width": null
          }
        },
        "b57dc4b9f6c5463ab72b76de7db5d5f5": {
          "model_module": "@jupyter-widgets/controls",
          "model_name": "DescriptionStyleModel",
          "model_module_version": "1.5.0",
          "state": {
            "_model_module": "@jupyter-widgets/controls",
            "_model_module_version": "1.5.0",
            "_model_name": "DescriptionStyleModel",
            "_view_count": null,
            "_view_module": "@jupyter-widgets/base",
            "_view_module_version": "1.2.0",
            "_view_name": "StyleView",
            "description_width": ""
          }
        },
        "3288a90844224eb099689635a95c1eec": {
          "model_module": "@jupyter-widgets/controls",
          "model_name": "HBoxModel",
          "model_module_version": "1.5.0",
          "state": {
            "_dom_classes": [],
            "_model_module": "@jupyter-widgets/controls",
            "_model_module_version": "1.5.0",
            "_model_name": "HBoxModel",
            "_view_count": null,
            "_view_module": "@jupyter-widgets/controls",
            "_view_module_version": "1.5.0",
            "_view_name": "HBoxView",
            "box_style": "",
            "children": [
              "IPY_MODEL_85ee8504c35d4b5fbe0e22d7f9927eb8",
              "IPY_MODEL_c962ea3457e744e4b1d64f2a65f7bf62",
              "IPY_MODEL_f3dd5ab3468a4bcda6b659a87e75c189"
            ],
            "layout": "IPY_MODEL_01bb2c52de5b4201b26846430d7b4b2b"
          }
        },
        "85ee8504c35d4b5fbe0e22d7f9927eb8": {
          "model_module": "@jupyter-widgets/controls",
          "model_name": "HTMLModel",
          "model_module_version": "1.5.0",
          "state": {
            "_dom_classes": [],
            "_model_module": "@jupyter-widgets/controls",
            "_model_module_version": "1.5.0",
            "_model_name": "HTMLModel",
            "_view_count": null,
            "_view_module": "@jupyter-widgets/controls",
            "_view_module_version": "1.5.0",
            "_view_name": "HTMLView",
            "description": "",
            "description_tooltip": null,
            "layout": "IPY_MODEL_9dc537070a4443ae9e6d8dedff4cd9c6",
            "placeholder": "​",
            "style": "IPY_MODEL_7c23759e874841528b65f23f9c18b918",
            "value": "100%"
          }
        },
        "c962ea3457e744e4b1d64f2a65f7bf62": {
          "model_module": "@jupyter-widgets/controls",
          "model_name": "FloatProgressModel",
          "model_module_version": "1.5.0",
          "state": {
            "_dom_classes": [],
            "_model_module": "@jupyter-widgets/controls",
            "_model_module_version": "1.5.0",
            "_model_name": "FloatProgressModel",
            "_view_count": null,
            "_view_module": "@jupyter-widgets/controls",
            "_view_module_version": "1.5.0",
            "_view_name": "ProgressView",
            "bar_style": "success",
            "description": "",
            "description_tooltip": null,
            "layout": "IPY_MODEL_d472898dc8e444c5a8732b2010cdabb9",
            "max": 64,
            "min": 0,
            "orientation": "horizontal",
            "style": "IPY_MODEL_8fa8934a36b44b0e986cd823911b52e9",
            "value": 64
          }
        },
        "f3dd5ab3468a4bcda6b659a87e75c189": {
          "model_module": "@jupyter-widgets/controls",
          "model_name": "HTMLModel",
          "model_module_version": "1.5.0",
          "state": {
            "_dom_classes": [],
            "_model_module": "@jupyter-widgets/controls",
            "_model_module_version": "1.5.0",
            "_model_name": "HTMLModel",
            "_view_count": null,
            "_view_module": "@jupyter-widgets/controls",
            "_view_module_version": "1.5.0",
            "_view_name": "HTMLView",
            "description": "",
            "description_tooltip": null,
            "layout": "IPY_MODEL_d5d8b5f3f3694289a87d7eb8dc90166d",
            "placeholder": "​",
            "style": "IPY_MODEL_1af8b1ff02c34270bbebdcb8892dc66f",
            "value": " 64/64 [00:23&lt;00:00,  3.17it/s]"
          }
        },
        "01bb2c52de5b4201b26846430d7b4b2b": {
          "model_module": "@jupyter-widgets/base",
          "model_name": "LayoutModel",
          "model_module_version": "1.2.0",
          "state": {
            "_model_module": "@jupyter-widgets/base",
            "_model_module_version": "1.2.0",
            "_model_name": "LayoutModel",
            "_view_count": null,
            "_view_module": "@jupyter-widgets/base",
            "_view_module_version": "1.2.0",
            "_view_name": "LayoutView",
            "align_content": null,
            "align_items": null,
            "align_self": null,
            "border": null,
            "bottom": null,
            "display": null,
            "flex": null,
            "flex_flow": null,
            "grid_area": null,
            "grid_auto_columns": null,
            "grid_auto_flow": null,
            "grid_auto_rows": null,
            "grid_column": null,
            "grid_gap": null,
            "grid_row": null,
            "grid_template_areas": null,
            "grid_template_columns": null,
            "grid_template_rows": null,
            "height": null,
            "justify_content": null,
            "justify_items": null,
            "left": null,
            "margin": null,
            "max_height": null,
            "max_width": null,
            "min_height": null,
            "min_width": null,
            "object_fit": null,
            "object_position": null,
            "order": null,
            "overflow": null,
            "overflow_x": null,
            "overflow_y": null,
            "padding": null,
            "right": null,
            "top": null,
            "visibility": null,
            "width": null
          }
        },
        "9dc537070a4443ae9e6d8dedff4cd9c6": {
          "model_module": "@jupyter-widgets/base",
          "model_name": "LayoutModel",
          "model_module_version": "1.2.0",
          "state": {
            "_model_module": "@jupyter-widgets/base",
            "_model_module_version": "1.2.0",
            "_model_name": "LayoutModel",
            "_view_count": null,
            "_view_module": "@jupyter-widgets/base",
            "_view_module_version": "1.2.0",
            "_view_name": "LayoutView",
            "align_content": null,
            "align_items": null,
            "align_self": null,
            "border": null,
            "bottom": null,
            "display": null,
            "flex": null,
            "flex_flow": null,
            "grid_area": null,
            "grid_auto_columns": null,
            "grid_auto_flow": null,
            "grid_auto_rows": null,
            "grid_column": null,
            "grid_gap": null,
            "grid_row": null,
            "grid_template_areas": null,
            "grid_template_columns": null,
            "grid_template_rows": null,
            "height": null,
            "justify_content": null,
            "justify_items": null,
            "left": null,
            "margin": null,
            "max_height": null,
            "max_width": null,
            "min_height": null,
            "min_width": null,
            "object_fit": null,
            "object_position": null,
            "order": null,
            "overflow": null,
            "overflow_x": null,
            "overflow_y": null,
            "padding": null,
            "right": null,
            "top": null,
            "visibility": null,
            "width": null
          }
        },
        "7c23759e874841528b65f23f9c18b918": {
          "model_module": "@jupyter-widgets/controls",
          "model_name": "DescriptionStyleModel",
          "model_module_version": "1.5.0",
          "state": {
            "_model_module": "@jupyter-widgets/controls",
            "_model_module_version": "1.5.0",
            "_model_name": "DescriptionStyleModel",
            "_view_count": null,
            "_view_module": "@jupyter-widgets/base",
            "_view_module_version": "1.2.0",
            "_view_name": "StyleView",
            "description_width": ""
          }
        },
        "d472898dc8e444c5a8732b2010cdabb9": {
          "model_module": "@jupyter-widgets/base",
          "model_name": "LayoutModel",
          "model_module_version": "1.2.0",
          "state": {
            "_model_module": "@jupyter-widgets/base",
            "_model_module_version": "1.2.0",
            "_model_name": "LayoutModel",
            "_view_count": null,
            "_view_module": "@jupyter-widgets/base",
            "_view_module_version": "1.2.0",
            "_view_name": "LayoutView",
            "align_content": null,
            "align_items": null,
            "align_self": null,
            "border": null,
            "bottom": null,
            "display": null,
            "flex": null,
            "flex_flow": null,
            "grid_area": null,
            "grid_auto_columns": null,
            "grid_auto_flow": null,
            "grid_auto_rows": null,
            "grid_column": null,
            "grid_gap": null,
            "grid_row": null,
            "grid_template_areas": null,
            "grid_template_columns": null,
            "grid_template_rows": null,
            "height": null,
            "justify_content": null,
            "justify_items": null,
            "left": null,
            "margin": null,
            "max_height": null,
            "max_width": null,
            "min_height": null,
            "min_width": null,
            "object_fit": null,
            "object_position": null,
            "order": null,
            "overflow": null,
            "overflow_x": null,
            "overflow_y": null,
            "padding": null,
            "right": null,
            "top": null,
            "visibility": null,
            "width": null
          }
        },
        "8fa8934a36b44b0e986cd823911b52e9": {
          "model_module": "@jupyter-widgets/controls",
          "model_name": "ProgressStyleModel",
          "model_module_version": "1.5.0",
          "state": {
            "_model_module": "@jupyter-widgets/controls",
            "_model_module_version": "1.5.0",
            "_model_name": "ProgressStyleModel",
            "_view_count": null,
            "_view_module": "@jupyter-widgets/base",
            "_view_module_version": "1.2.0",
            "_view_name": "StyleView",
            "bar_color": null,
            "description_width": ""
          }
        },
        "d5d8b5f3f3694289a87d7eb8dc90166d": {
          "model_module": "@jupyter-widgets/base",
          "model_name": "LayoutModel",
          "model_module_version": "1.2.0",
          "state": {
            "_model_module": "@jupyter-widgets/base",
            "_model_module_version": "1.2.0",
            "_model_name": "LayoutModel",
            "_view_count": null,
            "_view_module": "@jupyter-widgets/base",
            "_view_module_version": "1.2.0",
            "_view_name": "LayoutView",
            "align_content": null,
            "align_items": null,
            "align_self": null,
            "border": null,
            "bottom": null,
            "display": null,
            "flex": null,
            "flex_flow": null,
            "grid_area": null,
            "grid_auto_columns": null,
            "grid_auto_flow": null,
            "grid_auto_rows": null,
            "grid_column": null,
            "grid_gap": null,
            "grid_row": null,
            "grid_template_areas": null,
            "grid_template_columns": null,
            "grid_template_rows": null,
            "height": null,
            "justify_content": null,
            "justify_items": null,
            "left": null,
            "margin": null,
            "max_height": null,
            "max_width": null,
            "min_height": null,
            "min_width": null,
            "object_fit": null,
            "object_position": null,
            "order": null,
            "overflow": null,
            "overflow_x": null,
            "overflow_y": null,
            "padding": null,
            "right": null,
            "top": null,
            "visibility": null,
            "width": null
          }
        },
        "1af8b1ff02c34270bbebdcb8892dc66f": {
          "model_module": "@jupyter-widgets/controls",
          "model_name": "DescriptionStyleModel",
          "model_module_version": "1.5.0",
          "state": {
            "_model_module": "@jupyter-widgets/controls",
            "_model_module_version": "1.5.0",
            "_model_name": "DescriptionStyleModel",
            "_view_count": null,
            "_view_module": "@jupyter-widgets/base",
            "_view_module_version": "1.2.0",
            "_view_name": "StyleView",
            "description_width": ""
          }
        },
        "20f00a7dbc7947698446617a911da4cf": {
          "model_module": "@jupyter-widgets/controls",
          "model_name": "HTMLModel",
          "model_module_version": "1.5.0",
          "state": {
            "_dom_classes": [],
            "_model_module": "@jupyter-widgets/controls",
            "_model_module_version": "1.5.0",
            "_model_name": "HTMLModel",
            "_view_count": null,
            "_view_module": "@jupyter-widgets/controls",
            "_view_module_version": "1.5.0",
            "_view_name": "HTMLView",
            "description": "",
            "description_tooltip": null,
            "layout": "IPY_MODEL_2f605ec324ec47a286032aaf05345f50",
            "placeholder": "​",
            "style": "IPY_MODEL_02cfe1e0a0514c4a9c9065ef85a23af0",
            "value": "<img src=\"data:image/gif;base64,R0lGODlhQABAAIQAAAAAADMAADMzAAAAMzMzM2YzM2ZmM5lmM8yZM2YzZpkzZswzZplmZsxmZpmZZsyZZv+ZZszMZpkzmcwzmZlmmcxmmf9mmcyZmf+ZmcwzzJlmzMxmzP9mzMyZzP+ZzAAAACH5BAAKAAAAIf8LTkVUU0NBUEUyLjADAQAAACwAAAAAQABAAAAI/wABCBxIsKDBgwgTKlzIsKHDhxAjSpxIsaLFixgzatzIsaPHjyBDihxJsqTJkyhTqlzJsqXLlzBjyvyYgMKGmxVubuiwUwKBlgF4Ct1QoQIFo0VzbrigkwLKnVCJLj1KleoFDUU7KO0QYCRUnkUvUK3AgAIDsmOP3mSKcwDNpDmLbqCqgIICBRLu5qUgwajOnGArdCS6IK5So3wZ1EVqVgKDsll3Gr65kWiFCTctENVKwSzSoliNSuBbQQNUD1DjZpQqF3DTvmo7PMAQuHMFnjpxS/15MSfT21KF2r7wAMKD48YfXDBquoOHy5OPXuy8wfTmoR04bDiOvLj34xQ44P8u2gCnzc4WbSf9S3RCA6UYjseP8AA19riW06bvjDU0cLnYfXUTbrgx1R9inTlVEWxIHXibacAFKJlkpZW2XIITJGgRA6ONZtt5WTlIFFY2VWjaVQjyRZoE6TnWmYcJakDViChSUGOFCa44Wl3o7cdjXR1WAGOOpeX4Il97jYagBF1Z1ECCQHIoZYcrqtihY1geiZiQgl10QIpUebijXSpyyCVpRzE4lgQPYOQAA++JtiZSMJ6Z1lFb4lTBAw1k9AADD6zH2IuDfljhiEptx2cDDmjEJ2IZ6KSnbX1VkEFpkiZ6UwPHcdqmRg4gwGUDnr5HVKSSSsqUVsTx6epxHXFk5ymfxFGQYVjc5ZrrrNx9xB2gslJ1qat7dvqqrp/6iqyxyx7X6rIkNSuttE2WVMC0uiYXX7IqFWDct94Zty0GB8wEwAACJGCAAQwQUK258MYr77z01mvvvfjmq+++/Pbrb0gBAQAh+QQACgAAACH/C05FVFNDQVBFMi4wAwEAAAAsCwAUACoAHQCEAAAAMwAAMzMAAAAzMwAzMzMzmWYzmZkzzJkzZjNmmTNmzDNmmWZmzGZmmZlmzJlm/5lmmTOZzDOZmWaZzGaZzJmZ/5mZzDPMmWbMzGbM/2bMmZnMzJnM/5nMzGb/AAAACP8AAQgcSJBggg4ZEmbgsLBhhgAFI0qMmKAhhQkXKWjUmLCCwwwTJooEgJAhBwoZMk5YSQHDxZQoPaJMOXIgw4UzK2BcyeDihAY7KXDAoJAhygQiC2RAiJKCTowKGCiIoKDqBAUrJ6TMIBPhVokKUZ5seRGrAp9lr2Z0aDKhxoJum7oFySACA4wa8a6MMMFlQ683Ww4MMFbCxqYXI4it0NYnxoaBFzSAOTAsBcMdNDLEWOEBBM+gH1RA64GDhrYpXYYEIHejwoQMH1h4EPoz7buoT3IFOYGv1pnAGXpsGxtCZ9ENbppEuYEsS5YuhwKHHVbC5NwOmTdVHcE3Rr8aMej/jgmz6EeuZFNm7T3hLtadfTe6JCsUw+ix6Ju7VJ2Vau/E7MGnGln7oVRggfDt1d1/LFkVoGNBwadSVo7xxRcFPe2knl12seebdxYGGKKFF2Lk20sPNACAAXd16N5KU9Ul44h1sZfYWsA9IBADDDTwQIjteRdgbxmWSIFiWmmlUAU+DsSiAw0ANaSNJjoGoIZL0uajjjsacAADUB6WkUoqSRDUBUsetyWXA0F5QANQ0pZXS6+F5dIFp1FAW4p70iYRAw8Y4ECPYU5wgWF8+njRBRcd12efBEz0AAMITJriBGZSsGYDTF5k2KZ7dgaRSAFY2ueWa2rJ56OdfVbTQHumLurAo7Tu+RkEA7xaEK2V1kpbq6KNqqtEAvhKm3EQfFbAsMwKFEAABAgQabMABAQAIfkEAAoAAAAh/wtORVRTQ0FQRTIuMAMBAAAALAsAFAArAB0AhAAAADMAADMAMzMzM2YzM5lmM8xmM5mZM8yZM2YzZpkzZswzZplmZsxmZv9mZpmZZsyZZv+ZZszMZpkzmcwzmZlmmcxmmcyZmcwzzJlmzMxmzP9mzJmZzMyZzP+ZzAAAAAj/AAEIHEhwYAINHRAq1KDBAsMOAgpKnDjRA0MLGB06vKCBI8eGDBkOoEjyYEKMFSpksFCBpcsMDU92cNiQpMSEOF22TLmzJUaQDzckZGgTQAWhDxuuZKCAadMJDCakzIAz6cyEJKvORGlBQQWvFqBCTflSocWZFBbULKjhLNKOKcH6RCm15coObzcovJCSoIKhIDVqYOAzZGCeFULirHpxwsCQGTf+nKABAoQIEixbboAY4duTF1ZWEJhgqEYKP2NGuGx5tWYGsFsOlalBtFQAgS9aoIDawgaHWvdCSKrw5EqWFW5rPKk7dfGFFhYAf26hQ2KeY42uXHnRcHXBOVl2/29YfTtyqRMsBHBp4fjVn8AF04z5nUN75MmTowSQoLPd++YdJxpG2/WE3VfIOSTQBFIlKJoGO70kXk/4MSiVAgleJBBT6CGWIFk84ZefhRVERSFMlm3YlFfp1YVYiB0yGBVhLaXHEwYOpShQATKKZWKM+c04Flk26tcSQ5oRRBhTQY7l1Yz5YRcWhS1hUJlmEQ0EWwFb6uTiizoRqBGOK0FwQWsSccnlAQwUAEEDb4YVJlneQcASahU4kOREbW75AANsPtDAoHA2gBEGLcG52QUuKQqBTYBu2cABDRTwp6BmcpaeBYp2qpllARQFwKQN/AnBAwa8KegDu+326atmRjAgKkEQuOkmAw9o5miusLY20qwFbWaZm6d+6qhmEfwKLEW9IgArAaEuKy0A0U47UEAAIfkEAAoAAAAh/wtORVRTQ0FQRTIuMAMBAAAALAsAFAArAB0AhAAAADMAAGYzM5lmM5mZM2YzZpkzZmZmZplmZsxmZpmZZsyZZv+ZZpkzmcwzmZlmmcxmmZmZmcyZmf+ZmcwzzJlmzMxmzP9mzJmZzMyZzP+ZzP9m/wAAAAAAAAAAAAAAAAj/AAEIHEiQYIMMFjJAsLDQgkOHBQoUnEixYAGECCU8ZJjRgkaNEBBWHCkQIUMIEB4wjJASZYWNDhFqcAiBJEGVNB+01MlTJ8qQIWMmZOigJkmHGjKmfMDUQAMEDZg+qADh5dALMocqrJhUa04DCQw8MAAVAdOqGoeqNVl1YswLCRc2fRB1Z4OlVRdmNYkxJcGLWNWCRPBzIUqpUhtm2JAhMNsKDQY2xmihq8KqGSQs2Kw5gVmzTClTlkDVL4C1D3+eZLBgwgLWmxcgmH0WNU0MdB+cnunwQuGiKE8KHU7TgWCPVOnWFMrWsAPghhEGTajQQoKGIJPnrsmW4cbfwTmK/49roUL2pXSh1jTsUTjMhvBpGqbKcOrSqHdVAtBJtX979uTpFRx/LWmHH2g6AZAAgXn1h9ZCDtqnEk/oOaVefkYBsABiO/2U3GEdIpabWLlJRUGGCCx4V1QiMmXBVC3yFJVYdVGI0gIDKTDAAhY2gB8E+fWEXkpRQYVYfhc8QMEDCRDkmQIGkNUjU/jlht9TJRJ2F00LAJmhQAMgMIACCPRI1lNPiVXWA0aeVdtmCUiQwGsThRlmj0ZiqZxOLKoGwZIQzBkbjhSJOduhsw2QgAKC7ohAl4EqsMB1DTggaGwkiXmAmHYaGiYBiyYQ5qMJLJjSpZvZBGaihurIKAIEwDW62Y6SDjqoqgMJ0OqoYyYAKqMETCqsrQHgOtECvYL665w7LmqrAMaqamuwti5QbLTYZltRQAAh+QQACgAAACH/C05FVFNDQVBFMi4wAwEAAAAsCwAUACsAHACEAAAAMwAAMzMAAAAzMwAzZgAzMzMzmWYzmZkzzJkzZjNmmTNmZmZmmWZmzGZmmZlmzJlmmTOZzDOZmWaZzGaZ/2aZzJmZmWbMzGbM/2bMzJnM/5nMzGb//2b/zJn/AAAACP8AAQgcSLAgAAwaMCikoBADhQADDEqcSDBhQoQOMVhQqIGhBosKKYq8iJChBQoMF3JsuAEjSgwGRA4keZLCBQoTJuDE2XHlxZYXE8acGMBDBo07deqMkFOpxgsIM4CUitHhRA9VUeZssGBBgwhfmzJMmZCqhqMWKRhsaXbhhAUTmDbAqfSCzqAcgGJMeJPghA4gQSbV2rSwToxGjV7cmHMgUKoZNp6MkPIkBAcNMhe+cJakSwyNASiIGpgjhY4QUqfOnNnrhKoWJDgweTOngoMbOFg0e3EshgooT/pE2BshVJtx1SZs2ZLjUZTQKUgY23Oj744aXtOlADbCQZBZHUb/n07+pcO0Dm8mZZqTAIbmQcMvHO87o02UdnF2526ArOmMDQXYUEIm3TdYXAjmREEBlDW0UUNj+SYhZwbmZxeCcE0gAWgRCACBedBdcNJx6t1UIk61FQZWTpRBJxAECpp4X2341agUXQrKlaBNqQ3kwIc3KiVkYduJxd5bCNJVwY8EPeCAk/qxuNSUhkXAHlwZ6qQVBRAU1AAEB0Dw5VwRLMCUmVha+dWKWd6YGmU9FhTmAQ0g4ACdXJnJFVhwrcieA4BiBuiHFDApUQNOHvBAA5i11t1XcAV62aIPiGnpl11SROemD2wKKWsN0LmoonM6YKdqmcrkqaesHSAqp6Y+MGlppanKJFCouB7AAK65fkmnpWHGaatBma1aZ6iL2vlAAqgOO6yYTi56GaoOOAtAQAAh+QQACgAAACH/C05FVFNDQVBFMi4wAwEAAAAsCwAUACsAHACFAAAAMwAAMzMAAAAzMwAzMzMzZjMzZmYzmWYzzGYzmZkzzJkzZjNmmTNmzDNmmWZmzGZmmZlmzJlmmTOZzDOZmWaZzGaZ/2aZzJmZmWbMzGbM/2bMzJnM/5nMzGb//2b/zJn//5n/AAAAAAAAAAAAAAAAAAAAAAAAAAAAAAAAAAAAAAAAAAAAAAAAAAAAAAAAAAAAAAAAAAAAAAAAAAAAAAAAAAAAAAAAAAAAAAAAAAAAAAAAAAAAAAAAAAAAAAAACP8AAQgcSLDgBAsaEibkkJBBwYcQIwrUgJChBg4WMF7c2IFiwgoSJW60iLDkQg0bOKQcOdJhyIkMGWa0YAFDhoweLVrs2HFjQgsSCcT0aKFCUaNGM+Q8uRPlUAwuCTJQiZEm0goVJmBFejMDhoQdQ2gAwZJhBgMEA4BY+fGogwYPJjzAenTpxZQrdRYdMJAqU4px6WbdSlgpQ7IkHcjMABJAhQ8MO/pliAFp0bkPMNP16dekUQIA8CJm+RODhNMQMqt+EAGnzosWbhrVCoCDB6p4KftUyCG1UZMINXwFrgEr7dx3La7swIE5TaIUSj6vSFF20QZGD6eEXFYhxegWooP/F/+z+lHjRjVI3ii2Z8/h02kCx4jROvqiwXlyTvjVu3+7seG3lVxGASDBSckhyB9RHpWHn2wDogfAAentJhNsCpmEAU3WQUgXgRVc0BgEwZ1EnXRdBdjheYMROIEEFkwgkAQVgFfShQGaJyBhs8U4F10QwEiQBKnRWEFxOjLG4oAxDobdQRCkBkEEBRD0AGoknncUizFO4GVcYGr1wJQIRCDBlQ9JoIAEEUwZpVVFHeQldnA1MIGd2BX5gAJuShAARKktQOSaVyLg5gN1NmAnmIju+UCZbioggESsIXAmBAoUumdqqy2qGgKsQVBmAhK8BACoZRqaqaaZolpBZqhGKgAqn6eZOtCjuCKAaq68gvpom7Xa+lCvsPKaWabBCvtSBLg2KyubfwobEAAh+QQACgAAACH/C05FVFNDQVBFMi4wAwEAAAAsCgAUACwAHACEAAAAMwAAADMAAAAzMwAzMzMzmWYzmZkzZjNmmTNmmWZmzGZmmZlmzJlmmTOZzDOZmWaZzGaZmZmZzJmZmWbMzGbM/2bMmZnMzJnM/5nMzGb/zJn//5n/AAAAAAAAAAAACP8AAQgcSJAgggoVIlTAsBBhhAcKC0qcSBEAgYQJGSLUyLBjQ4YFKopEOGEjxpIWMKSssDKDyYYQRA4kwDBCTYwNP360sJCnSo8yPWJQGEFCQggYFTZ0uaGCS48bIwyYWMAnT4UQIkDYqpXCBAoaN6bUkIFswwVEJQZo2lHrhKwOFnCFQEFrBLAmoWpUWLfgz5UR7kZQ4IDw1sOH74Z1+pHhBK0OBjrAYDZsYAgJEENQkFkBBAlah3J0SHrrwJ8VNqwUirDCAgWwYytosIBBSaKMb9eFELmqatSrGWMYmjCwTdzFiys9ulUBgKUaUEt3OLzjXuMQF0B8UHw37+dPxz7/ZTw+78KHxgNTr3BBcGKEZX+atcBW+EqeylvjJKp1a+EIzzH2WwUc9KSXTvotR1RduxX2XUn2dZTSgD6RltSFWSHmIIAANNCaR+O5hGBNeyW0m3sROLjAAgIt0MBtLDUUXE4QdveVXRT4hxlvDCggwEANBIlTThIOeVxddh1W2JIQLHAAi0AG2QBX+rVm03kmBpajkpkl4EACChwwWwMFuUhbihBApN5tgnnHlQNwEgZmYQwsYACZEknZAESzydVfjnY5EGhhYCbgpQIGIKoAAxXRJqWZr6GFVmC1RSobZ5gp+qRMdR4Q5GyeulgnAwaMWqoBdioK26l4ypRoA3feNVlbrLSJ6eRrYiaqK2wySZSoqQ3MFqYCTq6q6K7O9UpRAIkiSmqquza7KqPKKqtrtJomW21AACH5BAAKAAAAIf8LTkVUU0NBUEUyLjADAQAAACwKABQALAAcAIQAAAAzAAAzMwAzADMzMzOZZjOZmTPMmTNmM2aZM2aZZmbMZmaZmWbMmWaZM5nMM5mZZpnMZpn/ZpmZmZnMmZnMM8yZZszMZsz/ZszMmcz/mczMZv//Zv/Mmf//mf8AAAAI/wABCBxIsKDABBcyPIgQ4ULChAgGGJxIceCAhw8zONSYcaNGjRAqVgzQsOSFhh8xaNRwgSVLlRgjiCQ4gCPHjjAzbvi4E8PDhghmmjyZYajNlhtUYtjw8uNJhiEpbkzI0EJVChGsOpzqVGMHriAntuwKFUIECFYtUFB7wYLTlhdg3mwYdaBNnxqznoVglq9fs1szWOgo4QIFqhEcDISgNANHvRAS/FUAgXKECRQmRKAA4efJpyct1M3AQaMHuHnLKkigoLUCBgsUNGig4HBJhhEWPuULIMDKjixvdkRc1CFu3AsbJrQa0gHpDExLw5Qb/GfXDCyPby3JVzGC3yt7/v9+WN1h+acVPpdkHhXmaZcXvlafj1O4cYdrzzpQIBA1hq8dKCVfQv+RN1VHh4VWlgNRbQRTcA8yRWAGcuGlnnGQQcBgAgEI1MBWcJ0W4FcawTQgRk6tt1dirA1UwIcoWhichNUd9dkFne3lAGsOMEDQbAwBN6GQnqXG3n47KlDAj7PBCCKILMX1FmIZapiAZC0W1GST2oEoXATFZZjYAqytpoABBgXQJAWzsXkWVG+aVSVfC8TGQGsGKMnfRAQs0ICfWzbggAOJRVDnAobidigDLxZQgJ57UiTAbIBuiWidsykQG20NMNDAi5A+uuRMAJwJaKULeCpbp7QdoOQCeYot2hqpBAXAqKpbvmgArLzCliektFIka56fciqbnrL6GKxIAQigpKyODrssAAEBACH5BAAKAAAAIf8LTkVUU0NBUEUyLjADAQAAACwKABQAKwAdAIUAAAAzAAAAMwAzMwAzADMzMzNmMzNmZjOZZjOZmTPMmTNmM2aZM2aZZmbMZmaZmWbMmWaZM5nMM5mZZpnMZpn/ZpmZmZnMmZmZZszMZsz/ZsyZmczMmcz/mczMZv//Zv/Mmf//mf8AAAAAAAAAAAAAAAAAAAAAAAAAAAAAAAAAAAAAAAAAAAAAAAAAAAAAAAAAAAAAAAAAAAAAAAAAAAAAAAAAAAAAAAAAAAAAAAAAAAAAAAAAAAAAAAAAAAAAAAAI/wABCBxIsCABBhIoZOCwsGHDBQUjSpSYoSEHhgwrYmzYgWGDiSABFKhoUUPFDhk6auBgEmXGihQohCS4AGYGChoUbswIYuEHhj8tNpwZU+jOiiuTZnS5UuPNDCAV2lRY1GlGDh4sergKM6PMglJ1ZrigEMOFCU8xcHXqsENYhRMIht2YYQKFCXbx5qWwYSwGsQuLxhwMdSDHlBvv6tVrgQIEBxAeQMAb9mbMhBXjAljYlCuHmHobiIbQQHID0hAUXmh4ubLAkgtRooQ5uCjX1RtnU6igUTEAlsBBdBZqlfjhl1P/1mQonGGIDM9lO8TYFOVqobip/o2gsKNPhi6DRv8/ebypeZI3/05oEEFj9QzNU27lTH1nU+zp7zJoIJVlz/DgycfBePKh1NNLXqkXAQMAOIBWgBwEZaBSAgbFgXQsrUYVXhGwBwAEqZEEXAYU/rdVZybRhd4E6u1HgEAgSnXYiSzRx9lhFlF1lwMNIPCRQJCBiN6MI6aEo1fp4eXAAz4W9ECQgonIFnIOabcjBD72WJABIHbZZWWWoTVYXgnZBdmSpTUZ0QGnBeklBBd8GVMEE3AnAYgO8EhaAg74iABIAUiGJ4hxvhnjnI9J9oACpyHA5I8hNeDmY5QaWimWiTqQgJYzDTRAaZNWOmmje/bZQACdRjSAn0+aFhmmCGAa2iOnqQKKwK2zZqmrmrX2KtAAAQiAqq8DBQQAIfkEAAoAAAAh/wtORVRTQ0FQRTIuMAMBAAAALAoAEwArAB4AhQAAADMAAAAzADMzADMzM2YzM5lmM8xmM5mZM2YzZpkzZplmZsxmZpmZZsyZZpkzmcwzmZlmmcxmmZmZmcyZmf+ZmcwzzJlmzMxmzP9mzJmZzMyZzP+ZzMxm//9m/8yZ//+Z/wAAAAAAAAAAAAAAAAAAAAAAAAAAAAAAAAAAAAAAAAAAAAAAAAAAAAAAAAAAAAAAAAAAAAAAAAAAAAAAAAAAAAAAAAAAAAAAAAAAAAAAAAAAAAAAAAAAAAAAAAAAAAj/AAEIHEiwoEEAARIcXMiwYQAMGyBKjBgRA4GGGAkmkABBAkUMEz18xCBBwoOMC0mSrBiRA4YMFGHCnBhRAkqBKyVCnLmhwwYPGDh0kOiSJUgMGCXoBFkUJIigOjfMPFrTY0mFByUqtToRJEWRXrtCLclRqUEJEZQuPbp2g9KKYd2qJVuyYEkLLpVSIDmBZFoNHi9ImBBBMGC2EOmCPClwa0mVGCigjVA47QQJDho42EyZcsm9UjdYmCswAmSvG+BiiLAggoMFmQ8sQMAAdNS1SiMAUAvSo8zUFEu6NvC65MeRLpu61X1h4tSKTSF7jAsVQwXqWy/s9pphZ2iIInka//UO8TjT3rqnm/+Q4cPE5FB/74T61KXX3ABMexdaVCZ79099J2B7ECmHgWC6PaCedwTC1x+AQXXg0lNQtdTbagGUxt1HLrnn3k8WfsdeiM+txsBAJr0FnoXwSYXBiBJWeFtiaSEwkAIpUtUVfy/OVJRP8cGFVkkGLECQAgwwgBZIMr0o0UwwddCkauhJwEADJxKE5WYOkMXdS0ZFx5ZwVjLwGgIGGLQll5JtdRRvY5IZwQMQbIYlAkYaZMCaZrL5mQSSRSQZl5t1hBlsxOV50J5XbgZbn4RGKqkDZtLWQJoYFfkam5JCKqlmiBZw0wCJbmrmqVyiSumWBhR5E0EBaCtKnGaaUZqZo2cugOmrBw2gq64MLNDAAgswUGSru/KK0gABDODsAAAIoGxAACH5BAAKAAAAIf8LTkVUU0NBUEUyLjADAQAAACwLABMAKgAeAIUAAAAzAAAzMwBmMwAAADMzADMzMzNmMzNmZjOZZjOZmTNmM2aZM2aZZmbMZmaZmWbMmWaZM5nMM5mZZpnMZpn/ZpmZmZnMmZnMM8yZZszMZsz/ZszMmcz/mczMZv//Zv/Mmf//mf8AAAAAAAAAAAAAAAAAAAAAAAAAAAAAAAAAAAAAAAAAAAAAAAAAAAAAAAAAAAAAAAAAAAAAAAAAAAAAAAAAAAAAAAAAAAAAAAAAAAAAAAAAAAAAAAAAAAAAAAAI/wABCBxIsKDABQYTKlyY0AADDho0QJyogYIEhhgLLoAosSPEDhE9dkSYsWABBxIodOy4AaIHDiAntowIUkNJACFlcmj54aOGmRpqSqSgkigFhhMqcoA4k2IHDx091KRYkQJEizYNFo0IFGJPqBypho1YtALRrANVdrSqcixFlRc0JN16oehbtDithlS7UikFCxMsZJhAYcKEDBcy2A0aEeIEgUkJq4UYt/BfuRAyO4DQALDhpFQlbggJgHDFlIwnF56QucGDBA8cxG7QoK1HvRQDEDZttKpIshQ4Q4BtW2fLmS0tZ6iIIaTSmEtXbr1KU+ROjpYrktUek7HopToZc/8EuQFES4qHt35ff12DefEzQcYMwRJExwgUlv/u3tP9+fJPcfAVSPS159Njkq3kVEcxbfDSet3tZJ98ZAUAQAPpMfideRxI9RKBEvVHX4FADfUYAAkkiJtIDfpU04viSeeAAwI1kEAEpjXGWIMTavAgifa5NFpFhsk2EG0OGKYeRQYeF9ZxJhYmwWYEJYBkBPjlmFN1HHnnHAUXQECBA2E2UFACCjTAAAMWUcCmls4BpVpmdELggAIJ2QjBmpvVaVRvhWkQZp2EcraQnrE9YGehgw5KaHCL2oiRlQksqlmdfVraZ6axJXCTja8pmuhmimZKJ6kOJODpTQNReqdswsEkKttmrqWaAAGsJkSpjXc2wFmnNq6aa0YCGHAAAgcMIICFuQYEACH5BAAKAAAAIf8LTkVUU0NBUEUyLjADAQAAACwLABMAKgAeAIUAAAAzAAAAMwAzMwBmMwAAADMzADMzMzNmZjOZZjOZmTNmM2aZM2aZZmbMZmaZmWbMmWaZM5nMM5mZZpnMZpmZmZnMmZnMM8yZZszMZsz/ZsyZmczMmcz/mczMZv//Zv/Mmf//mf8AAAAAAAAAAAAAAAAAAAAAAAAAAAAAAAAAAAAAAAAAAAAAAAAAAAAAAAAAAAAAAAAAAAAAAAAAAAAAAAAAAAAAAAAAAAAAAAAAAAAAAAAAAAAAAAAAAAAAAAAI/wABCBxIsKDBgwgTJszAIQNDhxwoUIA4QaFFggcePmzY0KEFhxozUGBwseACiA87ZFCpsiNHDSInSpSw4KKBiBpVMvTQUAMHnxsZSpQpUeHQiSsfhsgAkwNPkCA7iuTokKTBCVCptgwaFKdMkSI7cCw4QeJGoAw/SG1IoWxZDBnKVpga1eHAAEi/TnQpsoJbDBMCB25bdmPPhgOxIkW5V+QGCA4gPIAAoYFgwRQwaE2ZAcBbhxTYgkRaeXKDBg8cKDjNwLLZ0Jw5dCjwlqjZlo1FWpBY+DVnoD9BrBycWeIFs2xlcuTAnCFVhk2TLtU5GMPEskfzMmwZfat3nsAZRv+objzD8dFJqf50uh6EBvfBM0yvShzuUKjAfXZPu34l+OcZjCeYSHCB9BFfGcDHk1o7qQRfUjpREEAEAhZHF3Tr+dQQSxBiyJRwbFXkWQOEZQYWXy/Fx957PnkAlE4ZQECBQAk0UGMEbZkIG2zqddjRVihRBsFANdaImXIQvRgUh4eBJiRBNkbpgGDWgVZXfyGNJiRlDhQUZY0NOCDReDnyZiVUYFEgpAWQDWlQAwhEKWUEDFBYlgRlSsTmlkJG9kBCXzZQWQMMOMAABQ5E1mafEOzJpqINWGRjkQlUxkChivLZaGScUmZjSQAEqkBlpTmQGqmCSkZZagkMAOpAogohWikECpgKGaunJSDAqwdRGquvBPD66gAHDGDAAAHs+mpAACH5BAAKAAAAIf8LTkVUU0NBUEUyLjADAQAAACwLABQAKwAdAIUAAAAzMwAzADMzMzNmMzNmZjOZZjOZmTNmM2aZM2bMM2ZmZmaZZmbMZmaZmWbMmWb/mWaZM5nMM5mZZpnMZpmZmZnMmZnMM8yZZszMZsz/ZszMmcz/mczMZv//Zv/Mmf//mf8AAAAAAAAAAAAAAAAAAAAAAAAAAAAAAAAAAAAAAAAAAAAAAAAAAAAAAAAAAAAAAAAAAAAAAAAAAAAAAAAAAAAAAAAAAAAAAAAAAAAAAAAAAAAAAAAAAAAAAAAAAAAI/wABCBxIkOAABBQSZtiQYSEFBAAEFJxIseCEhRgbamTIMIPChCArigTQsOMGDRs4ZlTpkUJLjyMJulTJIcMHDRlqnmS5waXHjShjXuSJkyNOjStdKqVgUqTPBjNRdtCJkePSDBMoYLDAFCPKCRMvJryIcmFZpFknqMWQlS0FsRxP3iQYQWHJlR0yVNCrVa3fvwne+szIAaxAv4MZ1lw4wQIDxw4YTGBAOYLfBFkTMix78nBdnyB9Wmj4oIGD0gcoq6b8sWrODCAWAvD7c7DtDKPfPmDwwKfJlA1rcphqdvZbjxhqMxysMXHKszU/LIzNkPps2gp7hp7Zs/ZrxRiFL//0AF5A2rcYtHq8QEHCdtFVOWuQPnzn2dmWz2sdy75/Qw0uFcUZed/NZ9YGDwDQwAT59aXecUp5ZNJd1OXUwU6vNVQAAAEs2OB5P6WHVE8oyWfUBsRlNJBkCeSnVl8//dSdSjtV59pJpA30gAERMGDZh+mlN+ONBx54lEcPJLgiAy36yOB5Qca40Up3NUSBBUkWtKMDETTAwIJPZhYkU2QiZaVHWT2AZZYFMWCAm5S92cCPaZ0nFkiZUaBmkqUpOZEDbxoQKJwGLOheVhFIEMGPDTTAZ5KOsllRA6kRCqebkXmpAJMNJADBo33u5qdIkRmwgKCWNvAmZQm06Chvppk1thsDMRG0o5unYmqAA5TGKuoDpxmwmwEE1DpRnJYGymtqqRUaaADGxkRooINSO0C02GYbU0AAIfkEAAoAAAAh/wtORVRTQ0FQRTIuMAMBAAAALAsAFAArABwAhQAAADMAAAAzADMzADMAMzMzM2YzM2ZmM5lmM5mZM2YzZpkzZswzZmZmZplmZsxmZpmZZsyZZpkzmcwzmZlmmcxmmf9mmZmZmcyZmcwzzJlmzMxmzP9mzJmZzMyZzP+ZzMxm//9m/8yZ//+Z/wAAAAAAAAAAAAAAAAAAAAAAAAAAAAAAAAAAAAAAAAAAAAAAAAAAAAAAAAAAAAAAAAAAAAAAAAAAAAAAAAAAAAAAAAAAAAAAAAAAAAAAAAAAAAAAAAj/AAEIHEiwIIEKHjZs8FBhQ4UKEyoQKEixYkUFDhsmTKjwYcaGGgtYHAlgocmNJ012XNlww4cNJAmmfOmBg8qUCUFi2LBTJUkCHIOG2MgBJUsPFDZQeIjSw8uKBJLuTEhzAwcRCjsy3HBBQwUKS8F67JmQIoWtQTeMSInBK9i3SyU4CPvVYU2nBCV49MDAY1WHGuCClQB3wQK6GhWOUDAQrNsJCjl+CNzh61wHDhZgpqCXwuGWCYvSFMjZo93IRCM4iAABAWbMDx5EWNp0oQcQHkJsCADAs9ilIFfabYmw4c6pLqm6XO5URO/SSx12BJ31ZsastTeIKKobJue3FbxK/5fu8SFIDzmvv1zvEnfy53HrgmxJ3nz56k3ds4dJeK5YrwDyNF1EGVRQIEtFJXiXdgtxAEAFhP1GF4APUZDBUhl8FJlKG+W2IEwOPBRhWG49JF5DSdWllVVEZReBQBF8BR14gX1FIX2J1VbTQg1FYACMq1nAGWGd0RXWBhRmFRxHJi0VwYswPgCBbEQ6MOJbJXpVWXEcBbeUbBE8QJBqrUVwmAQLEPkdeMBR6NVXX00AZpgUhQkBbIelaaWVEK4p2ARgTSDBnGEKUFEEriWAWZ4OPOCAa41auQCEEDn6AJqTSinlACOF6YCirrX26KiuQfoAAnc6apiUESTwAKckPToZaqmk1ooqAqdO6Wprp8Y0pmq0HvBoA7SWemeijSIgkq8FPemAqKUiQGyxtz7KbEwI2IlZsaNay2xAACH5BAAKAAAAIf8LTkVUU0NBUEUyLjADAQAAACwLABQAKwAdAIQAAAAzAAAzMwAAADMzADMzMzNmZjOZZjOZmTNmM2aZM2bMM2aZZmbMZmaZmWbMmWaZM5nMM5mZZpnMZpnMmZnMM8yZZszMZsz/ZsyZmczMmcz/mcz/Zv/Mmf//mf8AAAAI/wABCBxIsCAACRMmXEjIcEKCAAYjSix4QUPFCxgbKsR4UUOCiSAJINxoEYNFjhkZLux4ASJIgQkmWJx5wSRLDRsVSqAgASOFihZfXvg5EwPLiysnWJCAsGlDjBsuRIyJ8aSHijZPJrSgdAJTCRAYeHUKlEPBAD0z3MTQgaPXpV+/KmAQFoLXjVU3EGS6kKbNi3GZMvh6V4EEsTKBRm07EELPn1UjX4jLoPLcBk7vVj15IeqGj2ARcsU5YYHCmQ8YOKhcuYGDB7Af9GS5YSaHoBIMd13olWNRnBmBo1Q5oW1Ui1EHhCarsPnKpBVz4uS80KZJthoweHXsWOnI5z8Tdv/O+Vw7+ZklNSAMy9SuXYTPnT+PoPE0VuRIF4Y23HQyb64ZpZQQfRX05BxN2UmlE2GOOWXBQlw9qJR+ERj43EkYLgSAAQ2M1SBhPY3ElYjNRegWUidJ8IBAD0zwHohMvXXXUjPuthV0DD1gAIsPRMCdi4E15eBYXYU4VITbNbCiQAU8oGSL7bkIZJAxVlmkUxJEoABsBMGmpJLNtQcWBGQK+eFX79nVwFxbGgSbA196iZldbJbJHVguGsZAA6zx2UBEAcCm2qCppUZXXXTteYCilS3KwAMHQOrAARIF6iWkDCDQWmUQGLbopwyAesCkoYb6EmwIuMbnqI6KWqqroL4v1CWqqrK6GqgGMGAArLJGdGmkjJb6qq6l9vqSALHBiUBqmpa6pLHQDuSSS9EKFBAAIfkEAAoAAAAh/wtORVRTQ0FQRTIuMAMBAAAALAoAFAAsAB0AhQAAADMAAAAzADMzADMAMzMzM2YzM2ZmM5lmM8xmM5mZM8yZM2YzZpkzZswzZmZmZplmZsxmZpmZZsyZZpkzmcwzmZlmmcxmmf9mmcyZmcwzzJlmzMxmzP9mzMyZzP+ZzMxm//9m/wAAAAAAAAAAAAAAAAAAAAAAAAAAAAAAAAAAAAAAAAAAAAAAAAAAAAAAAAAAAAAAAAAAAAAAAAAAAAAAAAAAAAAAAAAAAAAAAAAAAAAAAAAAAAAAAAAAAAAAAAj/AAEIHEiwYIALFS4ovMDBQ0MOBSNKnDiQg0UOCxlqxPjQoQcCFEMCYOCRQ4aHFjdeyKAQpUcGIgm2bNihJMoLGy5Y2KkzY0sPFkQyYGjSokOjHDPktNBzp1OeFmuClGih4VGHNV0yfdqAAoQGERos3FDyQ4GIVa9mLanwKVMKFiDAbRC36gWHHxqCCECQKcOSHkJ46IBxg1O4TjNaEKvQI96GAwns5JDTZUPDOxtAgBABwoQIE1hinJwS6QcQFwRagNv4L8oPcTfLnkC79sWGdzkadaga8QbKHoh6qBCBQt7HDoniLmqUIQYONT8Q6Mnab1GFDpRb/kvUp+ujQ3dS/6DL1LBKjME5ZiyN8YIG990fCgAwmgJinTnz99xYOn7Clj89JFBbOnW1Gk9b4aQRf7oppN9v/QlUgEUHrgZBhRQ0paB+OGVgV044tVdUUAJN0N5WXq2mE2tLFdYTiC1+iNNOFQxEG2VN7STXVgg2xUF5PSbIUwMN2DhBd+Lp9JSSO5mXGI9uZcjZfEaCRiBiWAbpVpRzdaYABAXRBtpnF8CVIY9YmrmagfbZ1xkCECAgQQQS1SYmmW1V4Ndba67p1ZtfwhnnARPZGcGYnx2ZQQQXWJnheIvFBuekcRpAUQB2TuDZprRJoCkEgc7pVZykTopATABkSptnCEQApwJvfj1KKQIP0AonqkYm2ukEc4K6GaWBloprRIZ+poCmEyCg6ZwSbMbssCEVUNuYoEmQwASwLjAAtNwSxFe3AAQEACH5BAAKAAAAIf8LTkVUU0NBUEUyLjADAQAAACwKABQALAAdAIQAAAAzAAAAMwAzMwAzADMzMzOZZjPMZjOZmTNmM2aZM2bMM2aZZmbMZmaZmWbMmWb/mWaZM5nMM5mZZpnMZpmZmZnMmZn/mZnMM8yZZszMZsz/ZszMmczMmf8AAAAAAAAI/wABCBxIsCCBCRQ0cFCogcKEhwkKSpxIEYACCgkzNtyYkOFChQkIVBypoSTGkxw5OKzQ8CTKhQFGEixpgeGGjxpqOkT4cOdDhAk5dNAgE0BOmx8XJuw5IQIDBQwiNOAZVOFNkRMnaGjQcaFXmhl2Kphw0amCsQ6rcuCwIWJBhCUZym2Y4SfTnQ6hOjzaVYMAghES1vR686YGng8j3G3ZFG5JlQ1vEnyYQe7XnA+hMmjwoPMDCA8sQH7ctWsEgU0xhq3pUUNdBrAbOPDsGQLpuC67oh6LsDLr1h4pLNzQurRJChg2aojZuGfYDKxVfqSwQELVuRhNarC+VyEFAIkb7/+lAL2jTgqBOTZUqfGo1ox1AyAM3Jzq844a2+NvuVHre8UY9KSYAoopRh5GPLWU1nt0kXdYWL2llUBGeDUVVX1MTQChagceaB9iDAiUXUM8DUhWY4rNl6J9C5Jnl2INDNRZXFSJp9iFTlWYoV0OKWZAiDLOSOOCAk7AgF0/+fRTBCYy8GNBtOG2IZLNrfiTBAMS6KSTEtEmJG4lLkhfakyiGNWWBkzk5QMNcPYARhhI0JRiciKUnEtSRQDVj2lSdEFnnFngpmdcYdSABSd1xsADWzrpAJ8yrcnZpJOuyYADDRjgAAMIwPYjkDKBtqZni2K62aYPaLplpqgWNVABoo4qyhkCDzhwQKoNLLqoAWy6quaogAI62wMIDOrrSAHACmywDwxw7LPQjhQQACH5BAAKAAAAIf8LTkVUU0NBUEUyLjADAQAAACwKABQALAAdAIQAAAAzAAAzMwAzADMzMzOZZjOZmTNmM2aZM2aZZmbMZmaZmWbMmWb/mWb/zGaZM5nMM5lmZpmZZpnMZpmZmZnMmZnMM8yZZszMZsz/ZsyZmczMmcz/mcwAAAAAAAAAAAAI/wABCBxIsGCACBgkHNiAgSFDhQMIFJxIkeKBCRMwaMyYkSEGjBIwZmx4oKJJAA9Efvw4oQLLkBVCTpAQUoJGhycLYly5kyPNmT+DitzQkQOGnCNHGm348QJQBAkQSIX64OcFph83mOzo8ObKmhIQhKw6EyqCmT01agwwMaRahi6ZVrhAc6zImg8ShLzgsGPGiROcqsSwNHBdmTY9YiTLcqNKgjSzXu26gW6CBwoYaNbcYHPCjTc5TrBwVKCElDazMjUqIUECBQs2M+jc2UFDDhs2ZNj50cJOgXn3xu2I1aNGo12xrmys0SYF0w+qCm/qtWFurxAUPHDJEbRjpxcABP+gKZYs3ZYcjWPgTnQCBNDdZyZEKwFA3QnBrYIPjP5q/J4y7WcYUABkdNpp0R0o1Hka8LefU6h9ZFNNQD0AwEVAVXjZgdIdBhRYGQYlAV00WShQZvghNtZll0WXIlklcughXmIRBCCFeLWW146niSUWjodVhUBeBDEgAWkY+LYfjqiBVdePVUkXZVgFEDQeRgyoxZNTIP4E42EUYvRaAhPJ5pmWavEXYpT4oTWBAgkUECeZZZqpWQVxpaklSBBIAIFIDCRgAGxymrRZZpohuhmWiWKkgKIMLADbnAzk1BkDFZiZmQJvyrapZgkEykABsMGWk0AVXGrnoQwgWmqkmYUtOmilpwokwGyr5sqqAa3SWitBBDSQqq7E/npSAAsIq2quAhjr7EBssfXsQAEBACH5BAAKAAAAIf8LTkVUU0NBUEUyLjADAQAAACwKABQAKwAdAIQAAAAzAAAzMwAAADMzADMzMzNmZjOZZjPMmTNmM2aZM2bMM2aZZmbMZmaZmWbMmWb/mWaZM5nMM5mZZpnMZpn/ZpmZmZnMmZn/mZnMM8yZZszMZsz/ZsyZmczMmcz/mcwI/wABCBxIsCAAAhM8bFC4oSFDDwkMSpw4MMHCiww3XKBAYQJHCg4XUqQY4KMHkB8pXPA4gSVLkA83jCRIQULDDRxxamjJUgEFBi8paKCgMGeBkThTgsT5UoECBk8jOG3ZEWVGmRKTomxIVGhHBS0jVJ3wFGzOokmx0sR588PFDUN5fpyQdEIEskJPvk1acKjCvxg7UvWo8cIFri1vMqywFOTAnDDZMpTb4IFlCA8wPzhJV6Hboig1DKQ6VGtkBpUtZ35wYTWEw3rZNt7gEYDcoVsBK1TNGoPuDQskLPi71eNOAHdJa9QQ8+3vmClpe5U+AQCDu2JJc/SL82rIw6E5ev+sGrd6S7Bg73o9TNf4xo24h3b4qIG2epcRbNu1e52n3AnxDVWaBUwJ9VJ2PN0FQAOD3aUAdv4J5pJ//kEYVoIKWOfSWOlF4OF+H2JHgYciXtdfWBwJFMAEGTB14VggAoVeBP0xMCKFdnXEwAGjSdAAVxK2JEFVYwlWVXIdqZddAw4wMNADFFjWQEcZ1GSkdi/9N5aHUT6wY0EPpPbRTS3exNYGZVZJG1c4DenlmwbxlmOUh5mpWEgbcNBaA6m9yQACEhmg2pQe8WboBZUhSkGfYTbAwKAjGSrpoJQ2GqahBzwwEwCqaZZaaq1NKqqmmwIQwKiiMspbqQUNgBkGq10chqpqrFIkAGuvXtaaZpYZUOuvAhBQQAHB/jpQQAAh+QQACgAAACH/C05FVFNDQVBFMi4wAwEAAAAsCwAUACoAHQCEAAAAMwAAMzMAAAAzMzMzZjMzZmYzmWYzZjNmmTNmzDNmmWZmzGZmmZlmzJlm/5lmzMxmmTOZzDOZmWaZzGaZ/2aZmZmZzJmZ/5mZzDPMmWbMzGbM/2bMzJnM/5nMAAAACP8AAQgcSLAgggkbElJIuKFDwwgECkqcKNFDw4sUKEzQmHHhhgsMJ1AcCeCiww0LL2xcufKChowdPHYIQHKgSZQUVK5kMGHBBJ4rKbx06JHCgJEIOi7MuGFlggkJEkSQGjWoQodEKUxEqWCpVw1Qw3LsGWHBU6EgUeJMWBCnhIQVEsac0JNjxpcaI9D12NAiUZQ2vapN2zQCx48XMKTNOwGr3KIbIgJIqfYk1r0XHDxwwHmzgwsa5XKg8FZhU610N2hICNLxBg4bOHfWTJtz48cMmIamu7ej2qW5F3bA8HkzhMQXMSrMGJT3hJcvUWZNfvOm45iqhWrkbTgodJirP1r/N70U5cugEbqX1at373PtLs3fzakBZP2XFrQ7b0+3bH/3QcG3mksanbfdfhP4lyBqYYWVXoLORcjbgew92B5/AgHln39PScXegh+mZ+FGZ3VHgWECHUDhf/x1mOAChrWX14ksjSWBAwI1sEBwzXGk3nZjncgckAjh5MACAx3pwGEs9XfgkwhtFB1DnDHAAI5J7rhRBnxRwKV7GUzAZQamMaTQlbI1UBBnQt7oAAOgLUWmmZYhltmbF1x55USyoamnAxNIsBEFshVa5ZuHyjZSmoZqFCahePppqKE1JWqpZ5NmqmhNAmmKqKZ3FkoTpwQVAOqknj2QGakkFbCZqq/SFEacZkiyaisAAhhgAAIHEDCqrQEBADs=\" />"
          }
        },
        "2f605ec324ec47a286032aaf05345f50": {
          "model_module": "@jupyter-widgets/base",
          "model_name": "LayoutModel",
          "model_module_version": "1.2.0",
          "state": {
            "_model_module": "@jupyter-widgets/base",
            "_model_module_version": "1.2.0",
            "_model_name": "LayoutModel",
            "_view_count": null,
            "_view_module": "@jupyter-widgets/base",
            "_view_module_version": "1.2.0",
            "_view_name": "LayoutView",
            "align_content": null,
            "align_items": null,
            "align_self": null,
            "border": null,
            "bottom": null,
            "display": null,
            "flex": null,
            "flex_flow": null,
            "grid_area": null,
            "grid_auto_columns": null,
            "grid_auto_flow": null,
            "grid_auto_rows": null,
            "grid_column": null,
            "grid_gap": null,
            "grid_row": null,
            "grid_template_areas": null,
            "grid_template_columns": null,
            "grid_template_rows": null,
            "height": null,
            "justify_content": null,
            "justify_items": null,
            "left": null,
            "margin": null,
            "max_height": null,
            "max_width": null,
            "min_height": null,
            "min_width": null,
            "object_fit": null,
            "object_position": null,
            "order": null,
            "overflow": null,
            "overflow_x": null,
            "overflow_y": null,
            "padding": null,
            "right": null,
            "top": null,
            "visibility": null,
            "width": null
          }
        },
        "02cfe1e0a0514c4a9c9065ef85a23af0": {
          "model_module": "@jupyter-widgets/controls",
          "model_name": "DescriptionStyleModel",
          "model_module_version": "1.5.0",
          "state": {
            "_model_module": "@jupyter-widgets/controls",
            "_model_module_version": "1.5.0",
            "_model_name": "DescriptionStyleModel",
            "_view_count": null,
            "_view_module": "@jupyter-widgets/base",
            "_view_module_version": "1.2.0",
            "_view_name": "StyleView",
            "description_width": ""
          }
        }
      }
    }
  },
  "cells": [
    {
      "cell_type": "markdown",
      "metadata": {
        "id": "view-in-github",
        "colab_type": "text"
      },
      "source": [
        "<a href=\"https://colab.research.google.com/github/abdibrokhim/OpeanAI-Shap-E-Tutorial/blob/main/shapetutorial.ipynb\" target=\"_parent\"><img src=\"https://colab.research.google.com/assets/colab-badge.svg\" alt=\"Open In Colab\"/></a>"
      ]
    },
    {
      "cell_type": "code",
      "execution_count": null,
      "metadata": {
        "colab": {
          "base_uri": "https://localhost:8080/"
        },
        "id": "EX3h_2J8P3Ix",
        "outputId": "41d46db8-4963-4b10-cd92-397a0080571f"
      },
      "outputs": [
        {
          "output_type": "stream",
          "name": "stdout",
          "text": [
            "Cloning into 'shap-e'...\n",
            "remote: Enumerating objects: 322, done.\u001b[K\n",
            "remote: Counting objects: 100% (44/44), done.\u001b[K\n",
            "remote: Compressing objects: 100% (29/29), done.\u001b[K\n",
            "remote: Total 322 (delta 29), reused 15 (delta 15), pack-reused 278\u001b[K\n",
            "Receiving objects: 100% (322/322), 11.71 MiB | 20.96 MiB/s, done.\n",
            "Resolving deltas: 100% (45/45), done.\n"
          ]
        }
      ],
      "source": [
        "!git clone https://github.com/openai/shap-e"
      ]
    },
    {
      "cell_type": "code",
      "source": [
        "cd shap-e"
      ],
      "metadata": {
        "colab": {
          "base_uri": "https://localhost:8080/"
        },
        "id": "MFf8GL0QQRV4",
        "outputId": "f3a3c853-c2d4-4d47-8afe-f8bc81350d4f"
      },
      "execution_count": null,
      "outputs": [
        {
          "output_type": "stream",
          "name": "stdout",
          "text": [
            "/content/shap-e\n"
          ]
        }
      ]
    },
    {
      "cell_type": "code",
      "source": [
        "ls"
      ],
      "metadata": {
        "colab": {
          "base_uri": "https://localhost:8080/"
        },
        "id": "a5VYaMApQT2R",
        "outputId": "2abeab39-43c0-4a3e-d13d-843290a2305c"
      },
      "execution_count": null,
      "outputs": [
        {
          "output_type": "stream",
          "name": "stdout",
          "text": [
            "LICENSE  model-card.md  README.md  \u001b[0m\u001b[01;34msamples\u001b[0m/  samples.md  setup.py  \u001b[01;34mshap_e\u001b[0m/\n"
          ]
        }
      ]
    },
    {
      "cell_type": "code",
      "source": [
        "!pip install -e ."
      ],
      "metadata": {
        "colab": {
          "base_uri": "https://localhost:8080/"
        },
        "id": "tZfRMAofQWIF",
        "outputId": "645e9d86-73b8-449b-a1b7-bea3c1066fa0"
      },
      "execution_count": null,
      "outputs": [
        {
          "output_type": "stream",
          "name": "stdout",
          "text": [
            "Looking in indexes: https://pypi.org/simple, https://us-python.pkg.dev/colab-wheels/public/simple/\n",
            "Obtaining file:///content/shap-e\n",
            "  Preparing metadata (setup.py) ... \u001b[?25l\u001b[?25hdone\n",
            "Collecting clip@ git+https://github.com/openai/CLIP.git (from shap-e==0.0.0)\n",
            "  Cloning https://github.com/openai/CLIP.git to /tmp/pip-install-_kp9g2_v/clip_6be311afa6f44e19b479856a8b11d62e\n",
            "  Running command git clone --filter=blob:none --quiet https://github.com/openai/CLIP.git /tmp/pip-install-_kp9g2_v/clip_6be311afa6f44e19b479856a8b11d62e\n",
            "  Resolved https://github.com/openai/CLIP.git to commit a9b1bf5920416aaeaec965c25dd9e8f98c864f16\n",
            "  Preparing metadata (setup.py) ... \u001b[?25l\u001b[?25hdone\n",
            "Requirement already satisfied: filelock in /usr/local/lib/python3.10/dist-packages (from shap-e==0.0.0) (3.12.0)\n",
            "Requirement already satisfied: Pillow in /usr/local/lib/python3.10/dist-packages (from shap-e==0.0.0) (8.4.0)\n",
            "Requirement already satisfied: torch in /usr/local/lib/python3.10/dist-packages (from shap-e==0.0.0) (2.0.1+cu118)\n",
            "Collecting fire (from shap-e==0.0.0)\n",
            "  Downloading fire-0.5.0.tar.gz (88 kB)\n",
            "\u001b[2K     \u001b[90m━━━━━━━━━━━━━━━━━━━━━━━━━━━━━━━━━━━━━━━━\u001b[0m \u001b[32m88.3/88.3 kB\u001b[0m \u001b[31m6.2 MB/s\u001b[0m eta \u001b[36m0:00:00\u001b[0m\n",
            "\u001b[?25h  Preparing metadata (setup.py) ... \u001b[?25l\u001b[?25hdone\n",
            "Requirement already satisfied: humanize in /usr/local/lib/python3.10/dist-packages (from shap-e==0.0.0) (4.6.0)\n",
            "Requirement already satisfied: requests in /usr/local/lib/python3.10/dist-packages (from shap-e==0.0.0) (2.27.1)\n",
            "Requirement already satisfied: tqdm in /usr/local/lib/python3.10/dist-packages (from shap-e==0.0.0) (4.65.0)\n",
            "Requirement already satisfied: matplotlib in /usr/local/lib/python3.10/dist-packages (from shap-e==0.0.0) (3.7.1)\n",
            "Requirement already satisfied: scikit-image in /usr/local/lib/python3.10/dist-packages (from shap-e==0.0.0) (0.19.3)\n",
            "Requirement already satisfied: scipy in /usr/local/lib/python3.10/dist-packages (from shap-e==0.0.0) (1.10.1)\n",
            "Requirement already satisfied: numpy in /usr/local/lib/python3.10/dist-packages (from shap-e==0.0.0) (1.22.4)\n",
            "Collecting blobfile (from shap-e==0.0.0)\n",
            "  Downloading blobfile-2.0.2-py3-none-any.whl (74 kB)\n",
            "\u001b[2K     \u001b[90m━━━━━━━━━━━━━━━━━━━━━━━━━━━━━━━━━━━━━━━━\u001b[0m \u001b[32m74.5/74.5 kB\u001b[0m \u001b[31m11.0 MB/s\u001b[0m eta \u001b[36m0:00:00\u001b[0m\n",
            "\u001b[?25hCollecting pycryptodomex~=3.8 (from blobfile->shap-e==0.0.0)\n",
            "  Downloading pycryptodomex-3.18.0-cp35-abi3-manylinux_2_17_x86_64.manylinux2014_x86_64.whl (2.1 MB)\n",
            "\u001b[2K     \u001b[90m━━━━━━━━━━━━━━━━━━━━━━━━━━━━━━━━━━━━━━━━\u001b[0m \u001b[32m2.1/2.1 MB\u001b[0m \u001b[31m67.5 MB/s\u001b[0m eta \u001b[36m0:00:00\u001b[0m\n",
            "\u001b[?25hRequirement already satisfied: urllib3<3,>=1.25.3 in /usr/local/lib/python3.10/dist-packages (from blobfile->shap-e==0.0.0) (1.26.15)\n",
            "Requirement already satisfied: lxml~=4.9 in /usr/local/lib/python3.10/dist-packages (from blobfile->shap-e==0.0.0) (4.9.2)\n",
            "Collecting ftfy (from clip@ git+https://github.com/openai/CLIP.git->shap-e==0.0.0)\n",
            "  Downloading ftfy-6.1.1-py3-none-any.whl (53 kB)\n",
            "\u001b[2K     \u001b[90m━━━━━━━━━━━━━━━━━━━━━━━━━━━━━━━━━━━━━━━━\u001b[0m \u001b[32m53.1/53.1 kB\u001b[0m \u001b[31m7.6 MB/s\u001b[0m eta \u001b[36m0:00:00\u001b[0m\n",
            "\u001b[?25hRequirement already satisfied: regex in /usr/local/lib/python3.10/dist-packages (from clip@ git+https://github.com/openai/CLIP.git->shap-e==0.0.0) (2022.10.31)\n",
            "Requirement already satisfied: torchvision in /usr/local/lib/python3.10/dist-packages (from clip@ git+https://github.com/openai/CLIP.git->shap-e==0.0.0) (0.15.2+cu118)\n",
            "Requirement already satisfied: six in /usr/local/lib/python3.10/dist-packages (from fire->shap-e==0.0.0) (1.16.0)\n",
            "Requirement already satisfied: termcolor in /usr/local/lib/python3.10/dist-packages (from fire->shap-e==0.0.0) (2.3.0)\n",
            "Requirement already satisfied: contourpy>=1.0.1 in /usr/local/lib/python3.10/dist-packages (from matplotlib->shap-e==0.0.0) (1.0.7)\n",
            "Requirement already satisfied: cycler>=0.10 in /usr/local/lib/python3.10/dist-packages (from matplotlib->shap-e==0.0.0) (0.11.0)\n",
            "Requirement already satisfied: fonttools>=4.22.0 in /usr/local/lib/python3.10/dist-packages (from matplotlib->shap-e==0.0.0) (4.39.3)\n",
            "Requirement already satisfied: kiwisolver>=1.0.1 in /usr/local/lib/python3.10/dist-packages (from matplotlib->shap-e==0.0.0) (1.4.4)\n",
            "Requirement already satisfied: packaging>=20.0 in /usr/local/lib/python3.10/dist-packages (from matplotlib->shap-e==0.0.0) (23.1)\n",
            "Requirement already satisfied: pyparsing>=2.3.1 in /usr/local/lib/python3.10/dist-packages (from matplotlib->shap-e==0.0.0) (3.0.9)\n",
            "Requirement already satisfied: python-dateutil>=2.7 in /usr/local/lib/python3.10/dist-packages (from matplotlib->shap-e==0.0.0) (2.8.2)\n",
            "Requirement already satisfied: certifi>=2017.4.17 in /usr/local/lib/python3.10/dist-packages (from requests->shap-e==0.0.0) (2022.12.7)\n",
            "Requirement already satisfied: charset-normalizer~=2.0.0 in /usr/local/lib/python3.10/dist-packages (from requests->shap-e==0.0.0) (2.0.12)\n",
            "Requirement already satisfied: idna<4,>=2.5 in /usr/local/lib/python3.10/dist-packages (from requests->shap-e==0.0.0) (3.4)\n",
            "Requirement already satisfied: networkx>=2.2 in /usr/local/lib/python3.10/dist-packages (from scikit-image->shap-e==0.0.0) (3.1)\n",
            "Requirement already satisfied: imageio>=2.4.1 in /usr/local/lib/python3.10/dist-packages (from scikit-image->shap-e==0.0.0) (2.25.1)\n",
            "Requirement already satisfied: tifffile>=2019.7.26 in /usr/local/lib/python3.10/dist-packages (from scikit-image->shap-e==0.0.0) (2023.4.12)\n",
            "Requirement already satisfied: PyWavelets>=1.1.1 in /usr/local/lib/python3.10/dist-packages (from scikit-image->shap-e==0.0.0) (1.4.1)\n",
            "Requirement already satisfied: typing-extensions in /usr/local/lib/python3.10/dist-packages (from torch->shap-e==0.0.0) (4.5.0)\n",
            "Requirement already satisfied: sympy in /usr/local/lib/python3.10/dist-packages (from torch->shap-e==0.0.0) (1.11.1)\n",
            "Requirement already satisfied: jinja2 in /usr/local/lib/python3.10/dist-packages (from torch->shap-e==0.0.0) (3.1.2)\n",
            "Requirement already satisfied: triton==2.0.0 in /usr/local/lib/python3.10/dist-packages (from torch->shap-e==0.0.0) (2.0.0)\n",
            "Requirement already satisfied: cmake in /usr/local/lib/python3.10/dist-packages (from triton==2.0.0->torch->shap-e==0.0.0) (3.25.2)\n",
            "Requirement already satisfied: lit in /usr/local/lib/python3.10/dist-packages (from triton==2.0.0->torch->shap-e==0.0.0) (16.0.5)\n",
            "Requirement already satisfied: wcwidth>=0.2.5 in /usr/local/lib/python3.10/dist-packages (from ftfy->clip@ git+https://github.com/openai/CLIP.git->shap-e==0.0.0) (0.2.6)\n",
            "Requirement already satisfied: MarkupSafe>=2.0 in /usr/local/lib/python3.10/dist-packages (from jinja2->torch->shap-e==0.0.0) (2.1.2)\n",
            "Requirement already satisfied: mpmath>=0.19 in /usr/local/lib/python3.10/dist-packages (from sympy->torch->shap-e==0.0.0) (1.3.0)\n",
            "Building wheels for collected packages: clip, fire\n",
            "  Building wheel for clip (setup.py) ... \u001b[?25l\u001b[?25hdone\n",
            "  Created wheel for clip: filename=clip-1.0-py3-none-any.whl size=1369370 sha256=cb36ecdf63d49861021f209e7f7fbae93d0b05b142ac196e2e146fc66358b506\n",
            "  Stored in directory: /tmp/pip-ephem-wheel-cache-vjtqfivt/wheels/da/2b/4c/d6691fa9597aac8bb85d2ac13b112deb897d5b50f5ad9a37e4\n",
            "  Building wheel for fire (setup.py) ... \u001b[?25l\u001b[?25hdone\n",
            "  Created wheel for fire: filename=fire-0.5.0-py2.py3-none-any.whl size=116932 sha256=82b6faadd167a0682c1fc257944836add7f1837ee8168996766a89b21568e0ff\n",
            "  Stored in directory: /root/.cache/pip/wheels/90/d4/f7/9404e5db0116bd4d43e5666eaa3e70ab53723e1e3ea40c9a95\n",
            "Successfully built clip fire\n",
            "Installing collected packages: pycryptodomex, ftfy, fire, blobfile, clip, shap-e\n",
            "  Running setup.py develop for shap-e\n",
            "Successfully installed blobfile-2.0.2 clip-1.0 fire-0.5.0 ftfy-6.1.1 pycryptodomex-3.18.0 shap-e-0.0.0\n"
          ]
        }
      ]
    },
    {
      "cell_type": "code",
      "source": [
        "import torch\n",
        "\n",
        "from shap_e.diffusion.sample import sample_latents\n",
        "from shap_e.diffusion.gaussian_diffusion import diffusion_from_config\n",
        "from shap_e.models.download import load_model, load_config\n",
        "from shap_e.util.notebooks import create_pan_cameras, decode_latent_images, gif_widget"
      ],
      "metadata": {
        "id": "zZPcgM4_Qcvj"
      },
      "execution_count": null,
      "outputs": []
    },
    {
      "cell_type": "code",
      "source": [
        "device = torch.device('cuda' if torch.cuda.is_available() else 'cpu')"
      ],
      "metadata": {
        "id": "K2L-tQ8oQkne"
      },
      "execution_count": null,
      "outputs": []
    },
    {
      "cell_type": "code",
      "source": [
        "xm = load_model('transmitter', device=device)\n",
        "model = load_model('text300M', device=device)\n",
        "diffusion = diffusion_from_config(load_config('diffusion'))"
      ],
      "metadata": {
        "colab": {
          "base_uri": "https://localhost:8080/",
          "height": 99,
          "referenced_widgets": [
            "cf8f098faef84d2686a9cd3625032aa8",
            "74c3aafed6a84389a6dc9978a1f44d12",
            "e3864b0615ed424eb4fcba7fadad574d",
            "52ba486ebe3048cca32b0b871dfc1583",
            "22bc09a3c0d4468581c0628a9eef1d0a",
            "00ec39e0755d4557a9b1637c87edab54",
            "96046adddb9546faa858b0ad13897846",
            "1aa3a9909829499f9deb6d4d4b4d18b8",
            "34420c7358f64bb28e8e84915f2250d5",
            "dda31e650af7477089ede3d9fe6ad2d2",
            "70fc198223674dea9923e79dd9998678",
            "8d69af1594fb48a3b09ecc0e81fa3ed9",
            "88373b1d172443d5ae07e1f1db738441",
            "6bc7ac40aa1b40aeaf0360bfe0e60403",
            "a0dbce69fa7946e4ac9c43448c7e8d47",
            "14cce4ba18014ab2a5b0df9668fa6753",
            "3dc0d406d13046de8148a9ace53eee95",
            "471f6ca2471b498a88dda6629030cbb6",
            "0cb36fa976404d9a98e30b8e15350f32",
            "bc5274ca0e2a46f3b635d3ab70087290",
            "6d714f1cb07d4674af4d19d6ca48a218",
            "b57dc4b9f6c5463ab72b76de7db5d5f5"
          ]
        },
        "id": "Qc2f2QA7Qmj7",
        "outputId": "38fe6369-cc2f-43bc-cb72-befea937b102"
      },
      "execution_count": null,
      "outputs": [
        {
          "output_type": "display_data",
          "data": {
            "text/plain": [
              "  0%|          | 0.00/1.78G [00:00<?, ?iB/s]"
            ],
            "application/vnd.jupyter.widget-view+json": {
              "version_major": 2,
              "version_minor": 0,
              "model_id": "cf8f098faef84d2686a9cd3625032aa8"
            }
          },
          "metadata": {}
        },
        {
          "output_type": "stream",
          "name": "stderr",
          "text": [
            "100%|███████████████████████████████████████| 890M/890M [00:19<00:00, 46.9MiB/s]\n"
          ]
        },
        {
          "output_type": "display_data",
          "data": {
            "text/plain": [
              "  0%|          | 0.00/1.26G [00:00<?, ?iB/s]"
            ],
            "application/vnd.jupyter.widget-view+json": {
              "version_major": 2,
              "version_minor": 0,
              "model_id": "8d69af1594fb48a3b09ecc0e81fa3ed9"
            }
          },
          "metadata": {}
        }
      ]
    },
    {
      "cell_type": "code",
      "source": [
        "batch_size = 1\n",
        "guidance_scale = 15.0\n",
        "prompt = \"a donut\"\n",
        "\n",
        "latents = sample_latents(\n",
        "    batch_size=batch_size,\n",
        "    model=model,\n",
        "    diffusion=diffusion,\n",
        "    guidance_scale=guidance_scale,\n",
        "    model_kwargs=dict(texts=[prompt] * batch_size),\n",
        "    progress=True,\n",
        "    clip_denoised=True,\n",
        "    use_fp16=True,\n",
        "    use_karras=True,\n",
        "    karras_steps=64,\n",
        "    sigma_min=1e-3,\n",
        "    sigma_max=160,\n",
        "    s_churn=0,\n",
        ")"
      ],
      "metadata": {
        "colab": {
          "base_uri": "https://localhost:8080/",
          "height": 49,
          "referenced_widgets": [
            "3288a90844224eb099689635a95c1eec",
            "85ee8504c35d4b5fbe0e22d7f9927eb8",
            "c962ea3457e744e4b1d64f2a65f7bf62",
            "f3dd5ab3468a4bcda6b659a87e75c189",
            "01bb2c52de5b4201b26846430d7b4b2b",
            "9dc537070a4443ae9e6d8dedff4cd9c6",
            "7c23759e874841528b65f23f9c18b918",
            "d472898dc8e444c5a8732b2010cdabb9",
            "8fa8934a36b44b0e986cd823911b52e9",
            "d5d8b5f3f3694289a87d7eb8dc90166d",
            "1af8b1ff02c34270bbebdcb8892dc66f"
          ]
        },
        "id": "YECoNaMYQoiw",
        "outputId": "58a0b1d0-3a80-4adc-b6a6-0d9111234088"
      },
      "execution_count": null,
      "outputs": [
        {
          "output_type": "display_data",
          "data": {
            "text/plain": [
              "  0%|          | 0/64 [00:00<?, ?it/s]"
            ],
            "application/vnd.jupyter.widget-view+json": {
              "version_major": 2,
              "version_minor": 0,
              "model_id": "3288a90844224eb099689635a95c1eec"
            }
          },
          "metadata": {}
        }
      ]
    },
    {
      "cell_type": "code",
      "source": [
        "render_mode = 'nerf' # you can change this to 'stf'\n",
        "size = 64 # this is the size of the renders; higher values take longer to render.\n",
        "\n",
        "cameras = create_pan_cameras(size, device)\n",
        "for i, latent in enumerate(latents):\n",
        "    images = decode_latent_images(xm, latent, cameras, rendering_mode=render_mode)\n",
        "    display(gif_widget(images))"
      ],
      "metadata": {
        "colab": {
          "base_uri": "https://localhost:8080/",
          "height": 95,
          "referenced_widgets": [
            "20f00a7dbc7947698446617a911da4cf",
            "2f605ec324ec47a286032aaf05345f50",
            "02cfe1e0a0514c4a9c9065ef85a23af0"
          ]
        },
        "id": "ScxiFqOkQp_s",
        "outputId": "9969e820-7d5a-4547-889a-9596d5b3183e"
      },
      "execution_count": null,
      "outputs": [
        {
          "output_type": "display_data",
          "data": {
            "text/plain": [
              "HTML(value='<img src=\"data:image/gif;base64,R0lGODlhQABAAIQAAAAAADMAADMzAAAAMzMzM2YzM2ZmM5lmM8yZM2YzZpkzZswzZp…"
            ],
            "application/vnd.jupyter.widget-view+json": {
              "version_major": 2,
              "version_minor": 0,
              "model_id": "20f00a7dbc7947698446617a911da4cf"
            }
          },
          "metadata": {}
        }
      ]
    },
    {
      "cell_type": "code",
      "source": [
        "# Example of saving the latents as meshes.\n",
        "from shap_e.util.notebooks import decode_latent_mesh\n",
        "\n",
        "for i, latent in enumerate(latents):\n",
        "    t = decode_latent_mesh(xm, latent).tri_mesh()\n",
        "    with open(f'example_mesh_{i}.ply', 'wb') as f:\n",
        "        t.write_ply(f)\n",
        "    with open(f'example_mesh_{i}.obj', 'w') as f:\n",
        "        t.write_obj(f)"
      ],
      "metadata": {
        "colab": {
          "base_uri": "https://localhost:8080/"
        },
        "id": "5spIFmwHQrIH",
        "outputId": "2a519c96-9761-43e9-8a4a-975411b8d9f2"
      },
      "execution_count": null,
      "outputs": [
        {
          "output_type": "stream",
          "name": "stderr",
          "text": [
            "/content/shap-e/shap_e/models/stf/renderer.py:286: UserWarning: exception rendering with PyTorch3D: No module named 'pytorch3d'\n",
            "  warnings.warn(f\"exception rendering with PyTorch3D: {exc}\")\n",
            "/content/shap-e/shap_e/models/stf/renderer.py:287: UserWarning: falling back on native PyTorch renderer, which does not support full gradients\n",
            "  warnings.warn(\n"
          ]
        }
      ]
    }
  ]
}